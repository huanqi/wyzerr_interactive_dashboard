{
 "cells": [
  {
   "cell_type": "markdown",
   "metadata": {
    "extensions": {
     "jupyter_dashboards": {
      "version": 1,
      "views": {
       "grid_default": {
        "col": 0,
        "height": 4,
        "hidden": false,
        "row": 0,
        "width": 4
       },
       "report_default": {
        "hidden": true
       }
      }
     }
    }
   },
   "source": [
    "# 1 Include the libraries"
   ]
  },
  {
   "cell_type": "code",
   "execution_count": 15,
   "metadata": {
    "collapsed": false,
    "extensions": {
     "jupyter_dashboards": {
      "version": 1,
      "views": {
       "grid_default": {
        "hidden": true
       },
       "report_default": {
        "hidden": true
       }
      }
     }
    }
   },
   "outputs": [],
   "source": [
    "from __future__ import division\n",
    "import pandas as pd\n",
    "pd.set_option('max_colwidth', 800)\n",
    "import MySQLdb\n",
    "import urllib2\n",
    "import datetime\n",
    "from ipywidgets import interact, interactive, fixed\n",
    "import ipywidgets as widgets\n",
    "from bokeh.charts import Bar, output_notebook, show\n",
    "import json\n",
    "import re\n",
    "\n",
    "## include self_written fuctions\n",
    "from read_sql_table import *\n",
    "from read_survey_question import *\n",
    "from read_survey_response import *\n",
    "from read_json_response import *\n",
    "from read_json_weights import *\n",
    "from computing_each_question import *\n",
    "from plot_geo_address import *\n",
    "from plot_time_serial import *\n",
    "from computing_survey_metrics import *\n",
    "from computing_open_text import *\n",
    "from clear_format_tags import *"
   ]
  },
  {
   "cell_type": "code",
   "execution_count": 16,
   "metadata": {
    "collapsed": false,
    "extensions": {
     "jupyter_dashboards": {
      "version": 1,
      "views": {
       "grid_default": {},
       "report_default": {
        "hidden": true
       }
      }
     }
    }
   },
   "outputs": [],
   "source": [
    "import ipywidgets\n",
    "from ipywidgets import *\n",
    "from IPython.display import display"
   ]
  },
  {
   "cell_type": "markdown",
   "metadata": {
    "extensions": {
     "jupyter_dashboards": {
      "version": 1,
      "views": {
       "grid_default": {
        "col": 0,
        "height": 7,
        "hidden": false,
        "row": 4,
        "width": 12
       },
       "report_default": {
        "hidden": true
       }
      }
     }
    }
   },
   "source": [
    "# 2 Set up the survey variables\n",
    "\n",
    "\n",
    ">  SurveyId = 141  \n",
    ">  start_time = pd.tslib.Timestamp('2016-09-01 00:00:00')  \n",
    ">  end_time = pd.tslib.Timestamp(datetime.datetime.utcnow())  \n",
    ">  repeatable = False   \n"
   ]
  },
  {
   "cell_type": "code",
   "execution_count": null,
   "metadata": {
    "collapsed": true,
    "extensions": {
     "jupyter_dashboards": {
      "version": 1,
      "views": {
       "grid_default": {},
       "report_default": {
        "hidden": true
       }
      }
     }
    }
   },
   "outputs": [],
   "source": []
  },
  {
   "cell_type": "code",
   "execution_count": 17,
   "metadata": {
    "collapsed": false,
    "extensions": {
     "jupyter_dashboards": {
      "version": 1,
      "views": {
       "grid_default": {
        "hidden": true
       },
       "report_default": {
        "hidden": true
       }
      }
     }
    }
   },
   "outputs": [],
   "source": [
    "start_time = pd.tslib.Timestamp('2017-04-07 00:00:00')\n",
    "# start_time = pd.tslib.Timestamp('2017-04-29 00:00:00')\n",
    "end_time = pd.tslib.Timestamp(datetime.datetime.utcnow())\n",
    "repeatable = False"
   ]
  },
  {
   "cell_type": "markdown",
   "metadata": {
    "extensions": {
     "jupyter_dashboards": {
      "version": 1,
      "views": {
       "grid_default": {
        "col": 4,
        "height": 4,
        "hidden": false,
        "row": 0,
        "width": 4
       },
       "report_default": {
        "hidden": true
       }
      }
     }
    }
   },
   "source": [
    "# 3 Get all the survey responses from the first screener"
   ]
  },
  {
   "cell_type": "code",
   "execution_count": 18,
   "metadata": {
    "collapsed": false,
    "extensions": {
     "jupyter_dashboards": {
      "version": 1,
      "views": {
       "grid_default": {
        "hidden": true
       },
       "report_default": {
        "hidden": true
       }
      }
     }
    }
   },
   "outputs": [],
   "source": [
    "SurveyId_1 = 23\n",
    "SurveyId_2 = 229\n",
    "SurveyId_3 = 234"
   ]
  },
  {
   "cell_type": "code",
   "execution_count": 19,
   "metadata": {
    "collapsed": false,
    "extensions": {
     "jupyter_dashboards": {
      "version": 1,
      "views": {
       "grid_default": {
        "hidden": true
       },
       "report_default": {
        "hidden": true
       }
      }
     }
    }
   },
   "outputs": [],
   "source": [
    "survey_questions = get_survey_question(SurveyId_1)\n",
    "\n",
    "survey_response_unique = get_survey_response(SurveyId_1, start_time, end_time, repeatable)\n",
    "result_survey_1 = get_json_response(survey_questions, survey_response_unique['jsonResponse'].tolist())\n",
    "result_survey_1 = pd.concat([result_survey_1, survey_response_unique.drop(['jsonResponse'], axis = 1)], axis = 1)\n",
    "\n",
    "# calculate the weights and total_score for a screener\n",
    "weights = get_json_weight(survey_questions, survey_response_unique['jsonResponse'].tolist())\n",
    "result_survey_1['total_score_for_screener'] = weights.sum(axis = 1)\n",
    "\n",
    "result_survey_1, survey_questions = clear_html_tag(result_survey_1, survey_questions)"
   ]
  },
  {
   "cell_type": "code",
   "execution_count": 20,
   "metadata": {
    "collapsed": false,
    "extensions": {
     "jupyter_dashboards": {
      "version": 1,
      "views": {
       "grid_default": {
        "hidden": true
       },
       "report_default": {
        "hidden": true
       }
      }
     }
    }
   },
   "outputs": [],
   "source": [
    "survey_questions = get_survey_question(SurveyId_2)\n",
    "\n",
    "survey_response_unique = get_survey_response(SurveyId_2, start_time, end_time, repeatable)\n",
    "result_survey_2 = get_json_response(survey_questions, survey_response_unique['jsonResponse'].tolist())\n",
    "result_survey_2 = pd.concat([result_survey_2, survey_response_unique.drop(['jsonResponse'], axis = 1)], axis = 1)\n",
    "\n",
    "# calculate the weights and total_score for a screener\n",
    "weights = get_json_weight(survey_questions, survey_response_unique['jsonResponse'].tolist())\n",
    "result_survey_2['total_score_for_screener'] = weights.sum(axis = 1)\n",
    "\n",
    "result_survey_2, survey_questions = clear_html_tag(result_survey_2, survey_questions)"
   ]
  },
  {
   "cell_type": "code",
   "execution_count": 21,
   "metadata": {
    "collapsed": false,
    "extensions": {
     "jupyter_dashboards": {
      "version": 1,
      "views": {
       "grid_default": {
        "hidden": true
       },
       "report_default": {
        "hidden": true
       }
      }
     }
    }
   },
   "outputs": [],
   "source": [
    "survey_questions = get_survey_question(SurveyId_3)\n",
    "\n",
    "survey_response_unique = get_survey_response(SurveyId_3, start_time, end_time, repeatable)\n",
    "result_survey_3 = get_json_response(survey_questions, survey_response_unique['jsonResponse'].tolist())\n",
    "result_survey_3 = pd.concat([result_survey_3, survey_response_unique.drop(['jsonResponse'], axis = 1)], axis = 1)\n",
    "\n",
    "# calculate the weights and total_score for a screener\n",
    "weights = get_json_weight(survey_questions, survey_response_unique['jsonResponse'].tolist())\n",
    "result_survey_3['total_score_for_screener'] = weights.sum(axis = 1)\n",
    "\n",
    "result_survey_3, survey_questions = clear_html_tag(result_survey_3, survey_questions)"
   ]
  },
  {
   "cell_type": "markdown",
   "metadata": {
    "collapsed": true,
    "extensions": {
     "jupyter_dashboards": {
      "version": 1,
      "views": {
       "grid_default": {
        "col": 8,
        "height": 4,
        "hidden": false,
        "row": 0,
        "width": 4
       },
       "report_default": {
        "hidden": true
       }
      }
     }
    }
   },
   "source": [
    "# 4 Merge all the results"
   ]
  },
  {
   "cell_type": "code",
   "execution_count": 22,
   "metadata": {
    "collapsed": false,
    "extensions": {
     "jupyter_dashboards": {
      "version": 1,
      "views": {
       "grid_default": {
        "hidden": true
       },
       "report_default": {
        "hidden": true
       }
      }
     }
    }
   },
   "outputs": [],
   "source": [
    "result_temp = pd.merge(result_survey_1, result_survey_2, on ='clientToken', how = 'outer')\n",
    "result = pd.merge(result_temp, result_survey_3, on = 'clientToken', how = 'outer')"
   ]
  },
  {
   "cell_type": "code",
   "execution_count": null,
   "metadata": {
    "collapsed": true,
    "extensions": {
     "jupyter_dashboards": {
      "version": 1,
      "views": {
       "grid_default": {},
       "report_default": {
        "hidden": true
       }
      }
     }
    }
   },
   "outputs": [],
   "source": []
  },
  {
   "cell_type": "code",
   "execution_count": null,
   "metadata": {
    "collapsed": true,
    "extensions": {
     "jupyter_dashboards": {
      "version": 1,
      "views": {
       "grid_default": {},
       "report_default": {
        "hidden": true
       }
      }
     }
    }
   },
   "outputs": [],
   "source": []
  },
  {
   "cell_type": "code",
   "execution_count": null,
   "metadata": {
    "collapsed": false,
    "extensions": {
     "jupyter_dashboards": {
      "version": 1,
      "views": {
       "grid_default": {},
       "report_default": {
        "hidden": true
       }
      }
     }
    }
   },
   "outputs": [],
   "source": []
  },
  {
   "cell_type": "code",
   "execution_count": 23,
   "metadata": {
    "collapsed": false,
    "extensions": {
     "jupyter_dashboards": {
      "version": 1,
      "views": {
       "grid_default": {},
       "report_default": {
        "hidden": false
       }
      }
     }
    }
   },
   "outputs": [],
   "source": [
    "b1 = Button(description='Adjust the date')\n",
    "b1.button_style = 'info'\n",
    "display(b1)\n",
    "\n",
    "start_year = IntSlider(value = 2017, min = 2016, max = 2018, step = 1, description = 'S_Year')\n",
    "start_month = IntSlider(value = 1, min = 1, max = 12, step = 1, description = 'S_Month')\n",
    "start_day = IntSlider(value = 1, min = 1, max = 31, step = 1, description = 'S_Day')\n",
    "\n",
    "end_year = IntSlider(value = 2017, min = 2016, max = 2018, step = 1, description = 'E_Year')\n",
    "end_month = IntSlider(value = 5, min = 1, max = 12, step = 1, description = 'E_Month')\n",
    "end_day = IntSlider(value = 1, min = 1, max = 31, step = 1, description = 'E_Day')\n",
    "\n",
    "w = ipywidgets.ToggleButtons(\n",
    "    options=['data', 'metrics'],\n",
    "    description='options',\n",
    "    disabled=False,\n",
    "    button_style='success', # 'success', 'info', 'warning', 'danger' or ''\n",
    "    tooltip='Description',\n",
    "#     icon='check'\n",
    ")\n",
    "\n",
    "\n",
    "@interact(sd1 = start_year, sd2 = start_month, sd3 = start_day, \\\n",
    "         ed1 = end_year, ed2 = end_month, ed3 = end_day, w = w, __manual = True )\n",
    "def click_me(sd1, sd2, sd3, ed1, ed2, ed3, w = w):\n",
    "    print sd1, sd2, sd3, ed1, ed2, ed3\n",
    "    \n",
    "    \n",
    "    start_date = datetime.datetime(start_year.value, start_month.value, start_day.value)\n",
    "    end_date = datetime.datetime(end_year.value, end_month.value, end_day.value)\n",
    "\n",
    "    start_date = pd.tslib.Timestamp(start_date)\n",
    "    end_date = pd.tslib.Timestamp(end_date)\n",
    "    if start_date > end_time:\n",
    "        raise ValueError('The start time is later than the earliest response')\n",
    "    elif start_date > pd.tslib.Timestamp(datetime.datetime.utcnow()):\n",
    "        raise ValueError('The start time is later than the current time')\n",
    "    elif end_date < start_time:\n",
    "        raise ValueError('The end time is before the survey start time')\n",
    "        \n",
    "    filter = [False] * len(result)\n",
    "    for i in xrange(len(result)):\n",
    "        if result['startTime_x'][i] > start_date and result['startTime_x'][i] < end_date:\n",
    "            filter[i] = True\n",
    "    temp_result = result[filter]\n",
    "    \n",
    "    if w == 'data':\n",
    "        print 'The raw data is created'\n",
    "        display(temp_result)\n",
    "        result.to_excel('connetic_%s.xlsx' % end_time)\n",
    "    elif w == 'metrics':\n",
    "        print \"\\nsurvey metrics for survey: %d\" % SurveyId_1\n",
    "        display(get_survey_metrics(SurveyId_1, start_date, end_date, result_survey_1))\n",
    "\n",
    "        print \"\\nsurvey metrics for survey: %d\" % SurveyId_2\n",
    "        display(get_survey_metrics(SurveyId_2, start_date, end_date, result_survey_2))\n",
    "\n",
    "        print \"\\nsurvey metrics for survey: %d\" % SurveyId_3\n",
    "        display(get_survey_metrics(SurveyId_3, start_date, end_date, result_survey_3))\n",
    "    \n",
    "    "
   ]
  },
  {
   "cell_type": "code",
   "execution_count": 24,
   "metadata": {
    "collapsed": false,
    "extensions": {
     "jupyter_dashboards": {
      "version": 1,
      "views": {
       "grid_default": {},
       "report_default": {
        "hidden": false
       }
      }
     }
    }
   },
   "outputs": [],
   "source": [
    "\n",
    "# @interact(w = w, __manual = True)\n",
    "# def click_me(w):\n",
    "#     if w == 'data':\n",
    "#         print 'The raw data is created'\n",
    "#         result.to_excel('connetic_%s.xlsx' % end_time)\n",
    "#     elif w == 'metrics':\n",
    "#         print \"\\nsurvey metrics for survey: %d\" % SurveyId_1\n",
    "#         display(get_survey_metrics(SurveyId_1, start_time, end_time, result_survey_1))\n",
    "\n",
    "#         print \"\\nsurvey metrics for survey: %d\" % SurveyId_2\n",
    "#         display(get_survey_metrics(SurveyId_2, start_time, end_time, result_survey_2))\n",
    "\n",
    "#         print \"\\nsurvey metrics for survey: %d\" % SurveyId_3\n",
    "#         display(get_survey_metrics(SurveyId_3, start_time, end_time, result_survey_3))"
   ]
  },
  {
   "cell_type": "code",
   "execution_count": null,
   "metadata": {
    "collapsed": true,
    "extensions": {
     "jupyter_dashboards": {
      "version": 1,
      "views": {
       "grid_default": {},
       "report_default": {
        "hidden": true
       }
      }
     }
    }
   },
   "outputs": [],
   "source": []
  },
  {
   "cell_type": "code",
   "execution_count": 25,
   "metadata": {
    "collapsed": false,
    "extensions": {
     "jupyter_dashboards": {
      "version": 1,
      "views": {
       "grid_default": {
        "hidden": true
       },
       "report_default": {
        "hidden": true
       }
      }
     }
    }
   },
   "outputs": [],
   "source": [
    "# result.to_excel('connetic_May02.xlsx')"
   ]
  },
  {
   "cell_type": "markdown",
   "metadata": {
    "extensions": {
     "jupyter_dashboards": {
      "version": 1,
      "views": {
       "grid_default": {
        "col": 0,
        "height": 4,
        "hidden": false,
        "row": 11,
        "width": 4
       },
       "report_default": {
        "hidden": true
       }
      }
     }
    }
   },
   "source": [
    "# 5 Get survey metrics"
   ]
  },
  {
   "cell_type": "code",
   "execution_count": 26,
   "metadata": {
    "collapsed": false,
    "extensions": {
     "jupyter_dashboards": {
      "version": 1,
      "views": {
       "grid_default": {
        "col": 4,
        "height": 5,
        "hidden": false,
        "row": 11,
        "width": 4
       },
       "report_default": {
        "hidden": true
       }
      }
     }
    },
    "scrolled": false
   },
   "outputs": [],
   "source": [
    "# print \"survey metrics for survey: %d\" % SurveyId_1\n",
    "# get_survey_metrics(SurveyId_1, start_time, end_time, result_survey_1)\n",
    "\n",
    "# print \"survey metrics for survey: %d\" % SurveyId_2\n",
    "# get_survey_metrics(SurveyId_2, start_time, end_time, result_survey_2)\n",
    "\n",
    "# print \"survey metrics for survey: %d\" % SurveyId_3\n",
    "# get_survey_metrics(SurveyId_3, start_time, end_time, result_survey_3)"
   ]
  },
  {
   "cell_type": "code",
   "execution_count": null,
   "metadata": {
    "collapsed": true,
    "extensions": {
     "jupyter_dashboards": {
      "version": 1,
      "views": {
       "grid_default": {
        "hidden": true
       },
       "report_default": {
        "hidden": true
       }
      }
     }
    }
   },
   "outputs": [],
   "source": []
  },
  {
   "cell_type": "code",
   "execution_count": null,
   "metadata": {
    "collapsed": true,
    "extensions": {
     "jupyter_dashboards": {
      "version": 1,
      "views": {
       "grid_default": {
        "hidden": true
       },
       "report_default": {
        "hidden": true
       }
      }
     }
    }
   },
   "outputs": [],
   "source": []
  },
  {
   "cell_type": "code",
   "execution_count": null,
   "metadata": {
    "collapsed": true,
    "extensions": {
     "jupyter_dashboards": {
      "version": 1,
      "views": {
       "grid_default": {
        "hidden": true
       },
       "report_default": {
        "hidden": true
       }
      }
     }
    }
   },
   "outputs": [],
   "source": []
  },
  {
   "cell_type": "code",
   "execution_count": null,
   "metadata": {
    "collapsed": true,
    "extensions": {
     "jupyter_dashboards": {
      "version": 1,
      "views": {
       "grid_default": {
        "hidden": true
       },
       "report_default": {
        "hidden": true
       }
      }
     }
    }
   },
   "outputs": [],
   "source": []
  },
  {
   "cell_type": "code",
   "execution_count": null,
   "metadata": {
    "collapsed": true,
    "extensions": {
     "jupyter_dashboards": {
      "version": 1,
      "views": {
       "grid_default": {
        "hidden": true
       },
       "report_default": {
        "hidden": true
       }
      }
     }
    }
   },
   "outputs": [],
   "source": []
  },
  {
   "cell_type": "code",
   "execution_count": null,
   "metadata": {
    "collapsed": true,
    "extensions": {
     "jupyter_dashboards": {
      "version": 1,
      "views": {
       "grid_default": {
        "hidden": true
       },
       "report_default": {
        "hidden": true
       }
      }
     }
    }
   },
   "outputs": [],
   "source": []
  },
  {
   "cell_type": "code",
   "execution_count": null,
   "metadata": {
    "collapsed": true,
    "extensions": {
     "jupyter_dashboards": {
      "version": 1,
      "views": {
       "grid_default": {
        "hidden": true
       },
       "report_default": {
        "hidden": true
       }
      }
     }
    }
   },
   "outputs": [],
   "source": []
  },
  {
   "cell_type": "code",
   "execution_count": null,
   "metadata": {
    "collapsed": true,
    "extensions": {
     "jupyter_dashboards": {
      "version": 1,
      "views": {
       "grid_default": {
        "hidden": true
       },
       "report_default": {
        "hidden": true
       }
      }
     }
    }
   },
   "outputs": [],
   "source": []
  },
  {
   "cell_type": "code",
   "execution_count": null,
   "metadata": {
    "collapsed": true,
    "extensions": {
     "jupyter_dashboards": {
      "version": 1,
      "views": {
       "grid_default": {
        "hidden": true
       },
       "report_default": {
        "hidden": true
       }
      }
     }
    }
   },
   "outputs": [],
   "source": []
  },
  {
   "cell_type": "code",
   "execution_count": null,
   "metadata": {
    "collapsed": true,
    "extensions": {
     "jupyter_dashboards": {
      "version": 1,
      "views": {
       "grid_default": {
        "hidden": true
       },
       "report_default": {
        "hidden": true
       }
      }
     }
    }
   },
   "outputs": [],
   "source": []
  }
 ],
 "metadata": {
  "extensions": {
   "jupyter_dashboards": {
    "activeView": "report_default",
    "version": 1,
    "views": {
     "grid_default": {
      "cellMargin": 10,
      "defaultCellHeight": 20,
      "maxColumns": 12,
      "name": "grid",
      "type": "grid"
     },
     "report_default": {
      "name": "report",
      "type": "report"
     }
    }
   }
  },
  "kernelspec": {
   "display_name": "Python 2",
   "language": "python",
   "name": "python2"
  },
  "language_info": {
   "codemirror_mode": {
    "name": "ipython",
    "version": 2
   },
   "file_extension": ".py",
   "mimetype": "text/x-python",
   "name": "python",
   "nbconvert_exporter": "python",
   "pygments_lexer": "ipython2",
   "version": "2.7.6"
  },
  "widgets": {
   "state": {
    "012b23958be6449cb0f5db234db992fb": {
     "views": [
      {
       "cell_index": 17
      }
     ]
    },
    "030def1f463e40f08a404fc13a01df9d": {
     "views": [
      {
       "cell_index": 17
      }
     ]
    },
    "0885fb7318834da1a3e693976da84aab": {
     "views": [
      {
       "cell_index": 17
      }
     ]
    },
    "11345c60b1254e32982acc051c2d0826": {
     "views": [
      {
       "cell_index": 17
      }
     ]
    },
    "13e73ffec9a643e6a4ccb48f0827626c": {
     "views": [
      {
       "cell_index": 17
      }
     ]
    },
    "1ad4daf973a94241ae1ae77069a81b5a": {
     "views": [
      {
       "cell_index": 17
      }
     ]
    },
    "284cd2f23b714748948d74186a91c133": {
     "views": [
      {
       "cell_index": 17
      }
     ]
    },
    "293bdd8c06db4289a7fe639abc151f7b": {
     "views": [
      {
       "cell_index": 17
      }
     ]
    },
    "33ad0cc338464a188e97b55b9dc44da1": {
     "views": [
      {
       "cell_index": 17
      }
     ]
    },
    "3516d6d0a2c248989771bca20421cae8": {
     "views": [
      {
       "cell_index": 17
      }
     ]
    },
    "36f28f5df63a4943b9457371576ec272": {
     "views": [
      {
       "cell_index": 17
      }
     ]
    },
    "5e81aefade474918a45af5666da605d6": {
     "views": [
      {
       "cell_index": 17
      }
     ]
    },
    "5f8f7284e9d14685978b1b178b22b3fe": {
     "views": [
      {
       "cell_index": 16
      }
     ]
    },
    "6a9814ddcd1d425ea8effda355f15a53": {
     "views": [
      {
       "cell_index": 17
      }
     ]
    },
    "6e0662a2d3c84991841df1deb96b3430": {
     "views": [
      {
       "cell_index": 17
      }
     ]
    },
    "7f9af5f8ccdf4d86b31b4a0a01fe9a00": {
     "views": [
      {
       "cell_index": 17
      }
     ]
    },
    "80cfe8acd4684a2a8544d3c0da0a5e40": {
     "views": [
      {
       "cell_index": 17
      }
     ]
    },
    "885a539056714772b04f9f3e559ad53b": {
     "views": [
      {
       "cell_index": 5
      }
     ]
    },
    "8f8700cef30744ef94c032dddc9c894b": {
     "views": [
      {
       "cell_index": 17
      }
     ]
    },
    "8fbb8f9c5f904beb87dbeeef7e01aa51": {
     "views": [
      {
       "cell_index": 17
      }
     ]
    },
    "a88e58d27f00448b8873fc5dbc6404ef": {
     "views": [
      {
       "cell_index": 17
      }
     ]
    },
    "ad3c3bad748e445a8a260261a620a7ef": {
     "views": [
      {
       "cell_index": 17
      }
     ]
    },
    "ae0f7dfb31ce4daaa8354b85f39f6e00": {
     "views": [
      {
       "cell_index": 16
      }
     ]
    },
    "af60c2dbf8ac408a8d26794a32b948a6": {
     "views": [
      {
       "cell_index": 17
      }
     ]
    },
    "b1f1a544f57648f6a5a6246c075b13a1": {
     "views": [
      {
       "cell_index": 17
      }
     ]
    },
    "b42d0d4d22ca424fa1466634a8b4dbb7": {
     "views": [
      {
       "cell_index": 17
      }
     ]
    },
    "b48db955d98d4e9da7225c28ef1a5e36": {
     "views": [
      {
       "cell_index": 17
      }
     ]
    },
    "bdeb608d03c04e9a847716ebf5570a58": {
     "views": [
      {
       "cell_index": 17
      }
     ]
    },
    "beb44b93e89745dd9197481ee6204372": {
     "views": [
      {
       "cell_index": 16
      }
     ]
    },
    "ce0c55f2463b4a438f639f2f3668aa2a": {
     "views": [
      {
       "cell_index": 17
      }
     ]
    },
    "d27ee051b84845eb986dbd718c0dedc6": {
     "views": [
      {
       "cell_index": 17
      }
     ]
    },
    "def51f24d63d4c4dab68031e4a8584e9": {
     "views": [
      {
       "cell_index": 5
      }
     ]
    },
    "f584c0d018d94802a23d6b6bc9e36be0": {
     "views": [
      {
       "cell_index": 17
      }
     ]
    },
    "fa81864a3c7a45a481c21f7e461837ac": {
     "views": [
      {
       "cell_index": 17
      }
     ]
    },
    "fbe19c2f131448d68283749388e209ab": {
     "views": [
      {
       "cell_index": 5
      }
     ]
    },
    "ffbfcb54aecb468bafa77c9bd0f19863": {
     "views": [
      {
       "cell_index": 17
      }
     ]
    }
   },
   "version": "1.2.0"
  }
 },
 "nbformat": 4,
 "nbformat_minor": 0
}
