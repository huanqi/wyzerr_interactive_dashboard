{
 "cells": [
  {
   "cell_type": "markdown",
   "metadata": {
    "extensions": {
     "jupyter_dashboards": {
      "version": 1,
      "views": {
       "grid_default": {
        "col": 0,
        "height": 4,
        "hidden": false,
        "row": 0,
        "width": 4
       },
       "report_default": {
        "hidden": true
       }
      }
     }
    }
   },
   "source": [
    "# 1 Include the libraries"
   ]
  },
  {
   "cell_type": "code",
   "execution_count": 1,
   "metadata": {
    "collapsed": false,
    "extensions": {
     "jupyter_dashboards": {
      "version": 1,
      "views": {
       "grid_default": {
        "hidden": true
       },
       "report_default": {
        "hidden": true
       }
      }
     }
    }
   },
   "outputs": [],
   "source": [
    "from __future__ import division\n",
    "import pandas as pd\n",
    "pd.set_option('max_colwidth', 800)\n",
    "import MySQLdb\n",
    "import urllib2\n",
    "import datetime\n",
    "from ipywidgets import interact, interactive, fixed\n",
    "import ipywidgets as widgets\n",
    "from bokeh.charts import Bar, output_notebook, show\n",
    "import json\n",
    "import re\n",
    "\n",
    "## include self_written fuctions\n",
    "from read_sql_table import *\n",
    "from read_survey_question import *\n",
    "from read_survey_response import *\n",
    "from read_json_response import *\n",
    "from read_json_weights import *\n",
    "from computing_each_question import *\n",
    "from plot_geo_address import *\n",
    "from plot_time_serial import *\n",
    "from computing_survey_metrics import *\n",
    "from computing_open_text import *\n",
    "from clear_format_tags import *"
   ]
  },
  {
   "cell_type": "code",
   "execution_count": 2,
   "metadata": {
    "collapsed": false,
    "extensions": {
     "jupyter_dashboards": {
      "version": 1,
      "views": {
       "grid_default": {},
       "report_default": {
        "hidden": true
       }
      }
     }
    }
   },
   "outputs": [],
   "source": [
    "import ipywidgets\n",
    "from ipywidgets import *\n",
    "from IPython.display import display"
   ]
  },
  {
   "cell_type": "markdown",
   "metadata": {
    "extensions": {
     "jupyter_dashboards": {
      "version": 1,
      "views": {
       "grid_default": {
        "col": 0,
        "height": 7,
        "hidden": false,
        "row": 4,
        "width": 12
       },
       "report_default": {
        "hidden": true
       }
      }
     }
    }
   },
   "source": [
    "# 2 Set up the survey variables\n",
    "\n",
    "\n",
    ">  SurveyId = 141  \n",
    ">  start_time = pd.tslib.Timestamp('2016-09-01 00:00:00')  \n",
    ">  end_time = pd.tslib.Timestamp(datetime.datetime.utcnow())  \n",
    ">  repeatable = False   \n"
   ]
  },
  {
   "cell_type": "code",
   "execution_count": 3,
   "metadata": {
    "collapsed": true,
    "extensions": {
     "jupyter_dashboards": {
      "version": 1,
      "views": {
       "grid_default": {},
       "report_default": {
        "hidden": true
       }
      }
     }
    }
   },
   "outputs": [],
   "source": [
    "start_year = IntSlider(value = 2017, min = 2016, max = 2018, step = 1, description = 'Year')\n",
    "start_month = IntSlider(value = 4, min = 1, max = 12, step = 1, description = 'Month')\n",
    "start_day = IntSlider(value = 1, min = 1, max = 31, step = 1, description = 'Day')\n",
    "\n",
    "end_year = IntSlider(value = 2017, min = 2016, max = 2018, step = 1, description = 'Year')\n",
    "end_month = IntSlider(value = 5, min = 1, max = 12, step = 1, description = 'Month')\n",
    "end_day = IntSlider(value = 1, min = 1, max = 31, step = 1, description = 'Day')"
   ]
  },
  {
   "cell_type": "code",
   "execution_count": 4,
   "metadata": {
    "collapsed": false,
    "extensions": {
     "jupyter_dashboards": {
      "version": 1,
      "views": {
       "grid_default": {},
       "report_default": {
        "hidden": false
       }
      }
     }
    }
   },
   "outputs": [],
   "source": [
    "b1 = Button(description='Enter the start date')\n",
    "b1.button_style = 'info'\n",
    "display(b1)\n",
    "display(HBox([start_year]))\n",
    "display(HBox([start_month, start_day]))\n",
    "\n",
    "b2 = Button(description='Enter the end date')\n",
    "b2.button_style = 'primary'\n",
    "display(b2)\n",
    "display(HBox([end_year]))\n",
    "display(HBox([end_month, end_day]))"
   ]
  },
  {
   "cell_type": "code",
   "execution_count": 5,
   "metadata": {
    "collapsed": false,
    "extensions": {
     "jupyter_dashboards": {
      "version": 1,
      "views": {
       "grid_default": {},
       "report_default": {
        "hidden": true
       }
      }
     }
    }
   },
   "outputs": [],
   "source": [
    "start_date = datetime.datetime(start_year.value, start_month.value, start_day.value)\n",
    "end_date = datetime.datetime(end_year.value, end_month.value, end_day.value)\n",
    "\n",
    "start_time = pd.tslib.Timestamp(start_date)\n",
    "end_time = pd.tslib.Timestamp(end_date)\n",
    "if end_time < start_time:\n",
    "    raise ValueError('The start time is later than the end time')\n",
    "elif start_time > pd.tslib.Timestamp(datetime.datetime.utcnow()):\n",
    "    raise ValueError('The start time is later than the current time')"
   ]
  },
  {
   "cell_type": "code",
   "execution_count": 6,
   "metadata": {
    "collapsed": false,
    "extensions": {
     "jupyter_dashboards": {
      "version": 1,
      "views": {
       "grid_default": {
        "hidden": true
       },
       "report_default": {
        "hidden": true
       }
      }
     }
    }
   },
   "outputs": [],
   "source": [
    "# start_time = pd.tslib.Timestamp('2017-10-18 00:00:00')\n",
    "# start_time = pd.tslib.Timestamp('2017-04-29 00:00:00')\n",
    "# end_time = pd.tslib.Timestamp(datetime.datetime.utcnow())\n",
    "repeatable = False"
   ]
  },
  {
   "cell_type": "markdown",
   "metadata": {
    "extensions": {
     "jupyter_dashboards": {
      "version": 1,
      "views": {
       "grid_default": {
        "col": 4,
        "height": 4,
        "hidden": false,
        "row": 0,
        "width": 4
       },
       "report_default": {
        "hidden": true
       }
      }
     }
    }
   },
   "source": [
    "# 3 Get all the survey responses from the first screener"
   ]
  },
  {
   "cell_type": "code",
   "execution_count": 7,
   "metadata": {
    "collapsed": false,
    "extensions": {
     "jupyter_dashboards": {
      "version": 1,
      "views": {
       "grid_default": {
        "hidden": true
       },
       "report_default": {
        "hidden": true
       }
      }
     }
    }
   },
   "outputs": [],
   "source": [
    "SurveyId_1 = 23\n",
    "SurveyId_2 = 229\n",
    "SurveyId_3 = 234"
   ]
  },
  {
   "cell_type": "code",
   "execution_count": 8,
   "metadata": {
    "collapsed": false,
    "extensions": {
     "jupyter_dashboards": {
      "version": 1,
      "views": {
       "grid_default": {
        "hidden": true
       },
       "report_default": {
        "hidden": true
       }
      }
     }
    }
   },
   "outputs": [],
   "source": [
    "survey_questions = get_survey_question(SurveyId_1)\n",
    "\n",
    "survey_response_unique = get_survey_response(SurveyId_1, start_time, end_time, repeatable)\n",
    "result_survey_1 = get_json_response(survey_questions, survey_response_unique['jsonResponse'].tolist())\n",
    "result_survey_1 = pd.concat([result_survey_1, survey_response_unique.drop(['jsonResponse'], axis = 1)], axis = 1)\n",
    "\n",
    "# calculate the weights and total_score for a screener\n",
    "weights = get_json_weight(survey_questions, survey_response_unique['jsonResponse'].tolist())\n",
    "result_survey_1['total_score_for_screener'] = weights.sum(axis = 1)\n",
    "\n",
    "result_survey_1, survey_questions = clear_html_tag(result_survey_1, survey_questions)"
   ]
  },
  {
   "cell_type": "code",
   "execution_count": 9,
   "metadata": {
    "collapsed": false,
    "extensions": {
     "jupyter_dashboards": {
      "version": 1,
      "views": {
       "grid_default": {
        "hidden": true
       },
       "report_default": {
        "hidden": true
       }
      }
     }
    }
   },
   "outputs": [],
   "source": [
    "survey_questions = get_survey_question(SurveyId_2)\n",
    "\n",
    "survey_response_unique = get_survey_response(SurveyId_2, start_time, end_time, repeatable)\n",
    "result_survey_2 = get_json_response(survey_questions, survey_response_unique['jsonResponse'].tolist())\n",
    "result_survey_2 = pd.concat([result_survey_2, survey_response_unique.drop(['jsonResponse'], axis = 1)], axis = 1)\n",
    "\n",
    "# calculate the weights and total_score for a screener\n",
    "weights = get_json_weight(survey_questions, survey_response_unique['jsonResponse'].tolist())\n",
    "result_survey_2['total_score_for_screener'] = weights.sum(axis = 1)\n",
    "\n",
    "result_survey_2, survey_questions = clear_html_tag(result_survey_2, survey_questions)"
   ]
  },
  {
   "cell_type": "code",
   "execution_count": 10,
   "metadata": {
    "collapsed": false,
    "extensions": {
     "jupyter_dashboards": {
      "version": 1,
      "views": {
       "grid_default": {
        "hidden": true
       },
       "report_default": {
        "hidden": true
       }
      }
     }
    }
   },
   "outputs": [],
   "source": [
    "survey_questions = get_survey_question(SurveyId_3)\n",
    "\n",
    "survey_response_unique = get_survey_response(SurveyId_3, start_time, end_time, repeatable)\n",
    "result_survey_3 = get_json_response(survey_questions, survey_response_unique['jsonResponse'].tolist())\n",
    "result_survey_3 = pd.concat([result_survey_3, survey_response_unique.drop(['jsonResponse'], axis = 1)], axis = 1)\n",
    "\n",
    "# calculate the weights and total_score for a screener\n",
    "weights = get_json_weight(survey_questions, survey_response_unique['jsonResponse'].tolist())\n",
    "result_survey_3['total_score_for_screener'] = weights.sum(axis = 1)\n",
    "\n",
    "result_survey_3, survey_questions = clear_html_tag(result_survey_3, survey_questions)"
   ]
  },
  {
   "cell_type": "markdown",
   "metadata": {
    "collapsed": true,
    "extensions": {
     "jupyter_dashboards": {
      "version": 1,
      "views": {
       "grid_default": {
        "col": 8,
        "height": 4,
        "hidden": false,
        "row": 0,
        "width": 4
       },
       "report_default": {
        "hidden": true
       }
      }
     }
    }
   },
   "source": [
    "# 4 Merge all the results"
   ]
  },
  {
   "cell_type": "code",
   "execution_count": 11,
   "metadata": {
    "collapsed": false,
    "extensions": {
     "jupyter_dashboards": {
      "version": 1,
      "views": {
       "grid_default": {
        "hidden": true
       },
       "report_default": {
        "hidden": true
       }
      }
     }
    }
   },
   "outputs": [],
   "source": [
    "result_temp = pd.merge(result_survey_1, result_survey_2, on ='clientToken', how = 'outer')\n",
    "result = pd.merge(result_temp, result_survey_3, on = 'clientToken', how = 'outer')"
   ]
  },
  {
   "cell_type": "code",
   "execution_count": 12,
   "metadata": {
    "collapsed": false,
    "extensions": {
     "jupyter_dashboards": {
      "version": 1,
      "views": {
       "grid_default": {},
       "report_default": {
        "hidden": false
       }
      }
     }
    }
   },
   "outputs": [
    {
     "name": "stdout",
     "output_type": "stream",
     "text": [
      "\n",
      "survey metrics for survey: 23\n",
      "start time 2017-04-01 00:00:00 --- end time 2017-05-01 00:00:00\n",
      "Average completion time: 101.50 s\n"
     ]
    },
    {
     "data": {
      "text/html": [
       "<div>\n",
       "<table border=\"1\" class=\"dataframe\">\n",
       "  <thead>\n",
       "    <tr style=\"text-align: right;\">\n",
       "      <th></th>\n",
       "      <th>variable</th>\n",
       "      <th>metrics</th>\n",
       "    </tr>\n",
       "  </thead>\n",
       "  <tbody>\n",
       "    <tr>\n",
       "      <th>0</th>\n",
       "      <td>Opened link</td>\n",
       "      <td>78.00000</td>\n",
       "    </tr>\n",
       "    <tr>\n",
       "      <th>1</th>\n",
       "      <td>Opened survey</td>\n",
       "      <td>64.00000</td>\n",
       "    </tr>\n",
       "    <tr>\n",
       "      <th>2</th>\n",
       "      <td>Completed survey</td>\n",
       "      <td>30.00000</td>\n",
       "    </tr>\n",
       "    <tr>\n",
       "      <th>3</th>\n",
       "      <td>Completed rate</td>\n",
       "      <td>0.46875</td>\n",
       "    </tr>\n",
       "  </tbody>\n",
       "</table>\n",
       "</div>"
      ],
      "text/plain": [
       "           variable   metrics\n",
       "0       Opened link  78.00000\n",
       "1     Opened survey  64.00000\n",
       "2  Completed survey  30.00000\n",
       "3    Completed rate   0.46875"
      ]
     },
     "metadata": {},
     "output_type": "display_data"
    },
    {
     "name": "stdout",
     "output_type": "stream",
     "text": [
      "\n",
      "survey metrics for survey: 229\n",
      "start time 2017-04-01 00:00:00 --- end time 2017-05-01 00:00:00\n",
      "Average completion time: 168.00 s\n"
     ]
    },
    {
     "data": {
      "text/html": [
       "<div>\n",
       "<table border=\"1\" class=\"dataframe\">\n",
       "  <thead>\n",
       "    <tr style=\"text-align: right;\">\n",
       "      <th></th>\n",
       "      <th>variable</th>\n",
       "      <th>metrics</th>\n",
       "    </tr>\n",
       "  </thead>\n",
       "  <tbody>\n",
       "    <tr>\n",
       "      <th>0</th>\n",
       "      <td>Opened link</td>\n",
       "      <td>13.000000</td>\n",
       "    </tr>\n",
       "    <tr>\n",
       "      <th>1</th>\n",
       "      <td>Opened survey</td>\n",
       "      <td>11.000000</td>\n",
       "    </tr>\n",
       "    <tr>\n",
       "      <th>2</th>\n",
       "      <td>Completed survey</td>\n",
       "      <td>5.000000</td>\n",
       "    </tr>\n",
       "    <tr>\n",
       "      <th>3</th>\n",
       "      <td>Completed rate</td>\n",
       "      <td>0.454545</td>\n",
       "    </tr>\n",
       "  </tbody>\n",
       "</table>\n",
       "</div>"
      ],
      "text/plain": [
       "           variable    metrics\n",
       "0       Opened link  13.000000\n",
       "1     Opened survey  11.000000\n",
       "2  Completed survey   5.000000\n",
       "3    Completed rate   0.454545"
      ]
     },
     "metadata": {},
     "output_type": "display_data"
    },
    {
     "name": "stdout",
     "output_type": "stream",
     "text": [
      "\n",
      "survey metrics for survey: 234\n",
      "start time 2017-04-01 00:00:00 --- end time 2017-05-01 00:00:00\n",
      "Average completion time: 246.50 s\n"
     ]
    },
    {
     "data": {
      "text/html": [
       "<div>\n",
       "<table border=\"1\" class=\"dataframe\">\n",
       "  <thead>\n",
       "    <tr style=\"text-align: right;\">\n",
       "      <th></th>\n",
       "      <th>variable</th>\n",
       "      <th>metrics</th>\n",
       "    </tr>\n",
       "  </thead>\n",
       "  <tbody>\n",
       "    <tr>\n",
       "      <th>0</th>\n",
       "      <td>Opened link</td>\n",
       "      <td>13.0</td>\n",
       "    </tr>\n",
       "    <tr>\n",
       "      <th>1</th>\n",
       "      <td>Opened survey</td>\n",
       "      <td>10.0</td>\n",
       "    </tr>\n",
       "    <tr>\n",
       "      <th>2</th>\n",
       "      <td>Completed survey</td>\n",
       "      <td>4.0</td>\n",
       "    </tr>\n",
       "    <tr>\n",
       "      <th>3</th>\n",
       "      <td>Completed rate</td>\n",
       "      <td>0.4</td>\n",
       "    </tr>\n",
       "  </tbody>\n",
       "</table>\n",
       "</div>"
      ],
      "text/plain": [
       "           variable  metrics\n",
       "0       Opened link     13.0\n",
       "1     Opened survey     10.0\n",
       "2  Completed survey      4.0\n",
       "3    Completed rate      0.4"
      ]
     },
     "metadata": {},
     "output_type": "display_data"
    }
   ],
   "source": [
    "w = ipywidgets.ToggleButtons(\n",
    "    options=['data', 'metrics'],\n",
    "    description='options',\n",
    "    disabled=False,\n",
    "    button_style='success', # 'success', 'info', 'warning', 'danger' or ''\n",
    "    tooltip='Description',\n",
    "#     icon='check'\n",
    ")\n",
    "@interact(w = w, __manual = True)\n",
    "def click_me(w):\n",
    "    if w == 'data':\n",
    "        print 'The raw data is created'\n",
    "        result.to_excel('connetic_%s.xlsx' % end_time)\n",
    "    elif w == 'metrics':\n",
    "        print \"\\nsurvey metrics for survey: %d\" % SurveyId_1\n",
    "        display(get_survey_metrics(SurveyId_1, start_time, end_time, result_survey_1))\n",
    "\n",
    "        print \"\\nsurvey metrics for survey: %d\" % SurveyId_2\n",
    "        display(get_survey_metrics(SurveyId_2, start_time, end_time, result_survey_2))\n",
    "\n",
    "        print \"\\nsurvey metrics for survey: %d\" % SurveyId_3\n",
    "        display(get_survey_metrics(SurveyId_3, start_time, end_time, result_survey_3))"
   ]
  },
  {
   "cell_type": "code",
   "execution_count": 13,
   "metadata": {
    "collapsed": false,
    "extensions": {
     "jupyter_dashboards": {
      "version": 1,
      "views": {
       "grid_default": {
        "hidden": true
       },
       "report_default": {
        "hidden": true
       }
      }
     }
    }
   },
   "outputs": [],
   "source": [
    "# result.to_excel('connetic_May02.xlsx')"
   ]
  },
  {
   "cell_type": "markdown",
   "metadata": {
    "extensions": {
     "jupyter_dashboards": {
      "version": 1,
      "views": {
       "grid_default": {
        "col": 0,
        "height": 4,
        "hidden": false,
        "row": 11,
        "width": 4
       },
       "report_default": {
        "hidden": true
       }
      }
     }
    }
   },
   "source": [
    "# 5 Get survey metrics"
   ]
  },
  {
   "cell_type": "code",
   "execution_count": 14,
   "metadata": {
    "collapsed": false,
    "extensions": {
     "jupyter_dashboards": {
      "version": 1,
      "views": {
       "grid_default": {
        "col": 4,
        "height": 5,
        "hidden": false,
        "row": 11,
        "width": 4
       },
       "report_default": {
        "hidden": true
       }
      }
     }
    },
    "scrolled": false
   },
   "outputs": [],
   "source": [
    "# print \"survey metrics for survey: %d\" % SurveyId_1\n",
    "# get_survey_metrics(SurveyId_1, start_time, end_time, result_survey_1)\n",
    "\n",
    "# print \"survey metrics for survey: %d\" % SurveyId_2\n",
    "# get_survey_metrics(SurveyId_2, start_time, end_time, result_survey_2)\n",
    "\n",
    "# print \"survey metrics for survey: %d\" % SurveyId_3\n",
    "# get_survey_metrics(SurveyId_3, start_time, end_time, result_survey_3)"
   ]
  },
  {
   "cell_type": "code",
   "execution_count": null,
   "metadata": {
    "collapsed": true,
    "extensions": {
     "jupyter_dashboards": {
      "version": 1,
      "views": {
       "grid_default": {
        "hidden": true
       },
       "report_default": {
        "hidden": true
       }
      }
     }
    }
   },
   "outputs": [],
   "source": []
  },
  {
   "cell_type": "code",
   "execution_count": null,
   "metadata": {
    "collapsed": true,
    "extensions": {
     "jupyter_dashboards": {
      "version": 1,
      "views": {
       "grid_default": {
        "hidden": true
       },
       "report_default": {
        "hidden": true
       }
      }
     }
    }
   },
   "outputs": [],
   "source": []
  },
  {
   "cell_type": "code",
   "execution_count": null,
   "metadata": {
    "collapsed": true,
    "extensions": {
     "jupyter_dashboards": {
      "version": 1,
      "views": {
       "grid_default": {
        "hidden": true
       },
       "report_default": {
        "hidden": true
       }
      }
     }
    }
   },
   "outputs": [],
   "source": []
  },
  {
   "cell_type": "code",
   "execution_count": null,
   "metadata": {
    "collapsed": true,
    "extensions": {
     "jupyter_dashboards": {
      "version": 1,
      "views": {
       "grid_default": {
        "hidden": true
       },
       "report_default": {
        "hidden": true
       }
      }
     }
    }
   },
   "outputs": [],
   "source": []
  },
  {
   "cell_type": "code",
   "execution_count": null,
   "metadata": {
    "collapsed": true,
    "extensions": {
     "jupyter_dashboards": {
      "version": 1,
      "views": {
       "grid_default": {
        "hidden": true
       },
       "report_default": {
        "hidden": true
       }
      }
     }
    }
   },
   "outputs": [],
   "source": []
  },
  {
   "cell_type": "code",
   "execution_count": null,
   "metadata": {
    "collapsed": true,
    "extensions": {
     "jupyter_dashboards": {
      "version": 1,
      "views": {
       "grid_default": {
        "hidden": true
       },
       "report_default": {
        "hidden": true
       }
      }
     }
    }
   },
   "outputs": [],
   "source": []
  },
  {
   "cell_type": "code",
   "execution_count": null,
   "metadata": {
    "collapsed": true,
    "extensions": {
     "jupyter_dashboards": {
      "version": 1,
      "views": {
       "grid_default": {
        "hidden": true
       },
       "report_default": {
        "hidden": true
       }
      }
     }
    }
   },
   "outputs": [],
   "source": []
  },
  {
   "cell_type": "code",
   "execution_count": null,
   "metadata": {
    "collapsed": true,
    "extensions": {
     "jupyter_dashboards": {
      "version": 1,
      "views": {
       "grid_default": {
        "hidden": true
       },
       "report_default": {
        "hidden": true
       }
      }
     }
    }
   },
   "outputs": [],
   "source": []
  },
  {
   "cell_type": "code",
   "execution_count": null,
   "metadata": {
    "collapsed": true,
    "extensions": {
     "jupyter_dashboards": {
      "version": 1,
      "views": {
       "grid_default": {
        "hidden": true
       },
       "report_default": {
        "hidden": true
       }
      }
     }
    }
   },
   "outputs": [],
   "source": []
  },
  {
   "cell_type": "code",
   "execution_count": null,
   "metadata": {
    "collapsed": true,
    "extensions": {
     "jupyter_dashboards": {
      "version": 1,
      "views": {
       "grid_default": {
        "hidden": true
       },
       "report_default": {
        "hidden": true
       }
      }
     }
    }
   },
   "outputs": [],
   "source": []
  }
 ],
 "metadata": {
  "extensions": {
   "jupyter_dashboards": {
    "activeView": "report_default",
    "version": 1,
    "views": {
     "grid_default": {
      "cellMargin": 10,
      "defaultCellHeight": 20,
      "maxColumns": 12,
      "name": "grid",
      "type": "grid"
     },
     "report_default": {
      "name": "report",
      "type": "report"
     }
    }
   }
  },
  "kernelspec": {
   "display_name": "Python 2",
   "language": "python",
   "name": "python2"
  },
  "language_info": {
   "codemirror_mode": {
    "name": "ipython",
    "version": 2
   },
   "file_extension": ".py",
   "mimetype": "text/x-python",
   "name": "python",
   "nbconvert_exporter": "python",
   "pygments_lexer": "ipython2",
   "version": "2.7.6"
  },
  "widgets": {
   "state": {
    "00d103fba5e24c98a2b3a5a2d1a8eb77": {
     "views": [
      {
       "cell_index": 5
      }
     ]
    },
    "1651e31a96294607ad8bedcd7a37fdfd": {
     "views": [
      {
       "cell_index": 15
      }
     ]
    },
    "1d961c86a4ad45619b269598c0be7cc0": {
     "views": [
      {
       "cell_index": 5
      }
     ]
    },
    "23a59d2c424842fe8e19d07c4860040d": {
     "views": [
      {
       "cell_index": 5
      }
     ]
    },
    "2ac29aff01bc4a92a840750dad8fe888": {
     "views": [
      {
       "cell_index": 5
      }
     ]
    },
    "2c1b47a9a68042fd99a9d94c3f9453d7": {
     "views": [
      {
       "cell_index": 5
      }
     ]
    },
    "33a9a6e2d0514d34a49d56f589313d02": {
     "views": [
      {
       "cell_index": 5
      }
     ]
    },
    "42aedb1b60e84085b2e541cfcd000c84": {
     "views": [
      {
       "cell_index": 5
      }
     ]
    },
    "49c9b86b05d54bdcaa9b961357629617": {
     "views": [
      {
       "cell_index": 5
      }
     ]
    },
    "4acda21b872842d5922e02b5981415be": {
     "views": [
      {
       "cell_index": 5
      }
     ]
    },
    "572cb1b6eaa342d9bd99736fd058a0be": {
     "views": [
      {
       "cell_index": 5
      }
     ]
    },
    "5d9fd3ab05394b1f80b5908a581974a8": {
     "views": [
      {
       "cell_index": 5
      }
     ]
    },
    "5dffb4b4c91544cdbb4f40b4b4ef839b": {
     "views": [
      {
       "cell_index": 5
      }
     ]
    },
    "6d3dfdb41f744abaaf0507dfa4c4ada1": {
     "views": [
      {
       "cell_index": 5
      }
     ]
    },
    "6f64a0e67e354c72ab185bbf30c83124": {
     "views": [
      {
       "cell_index": 5
      }
     ]
    },
    "7a44cb771d384cb59437fdf0969e4f73": {
     "views": [
      {
       "cell_index": 5
      }
     ]
    },
    "7f70506a532341f48e1839173aa15984": {
     "views": [
      {
       "cell_index": 5
      }
     ]
    },
    "8239fd9c4a0b484b9da57baae67eaee4": {
     "views": [
      {
       "cell_index": 5
      }
     ]
    },
    "8562694c860f43f58d284a60768decea": {
     "views": [
      {
       "cell_index": 5
      }
     ]
    },
    "86cc234d80cd43bfae6c255507a67377": {
     "views": [
      {
       "cell_index": 5
      }
     ]
    },
    "8e2e4ad3ec714e1886ad90d0424ae033": {
     "views": [
      {
       "cell_index": 5
      }
     ]
    },
    "932aac0e2bb342f6beac3dde94b7d13a": {
     "views": [
      {
       "cell_index": 5
      }
     ]
    },
    "975e7e54bd5b448da849aa1f99cd7ab2": {
     "views": [
      {
       "cell_index": 5
      }
     ]
    },
    "a16d070de82341d38d306e9444a78c35": {
     "views": [
      {
       "cell_index": 5
      }
     ]
    },
    "aafd525bc9544e57aeda0853a15049fe": {
     "views": [
      {
       "cell_index": 5
      }
     ]
    },
    "ad67425ca2fd4080bac01b0314845185": {
     "views": [
      {
       "cell_index": 5
      }
     ]
    },
    "b0df7c20fdb34f65ae55e2e6eb908642": {
     "views": [
      {
       "cell_index": 5
      }
     ]
    },
    "b6140aa5a67a463c9066770271883637": {
     "views": [
      {
       "cell_index": 5
      }
     ]
    },
    "c04695c44d2c478fa6a6bca9d0185d5f": {
     "views": [
      {
       "cell_index": 5
      }
     ]
    },
    "c29fb4e4b3a9424693d2392f33f64384": {
     "views": [
      {
       "cell_index": 5
      }
     ]
    },
    "c2f53968201d4fd0b9f6d133670fe139": {
     "views": [
      {
       "cell_index": 5
      }
     ]
    },
    "c7df086436544fe1bb78b326206111b6": {
     "views": [
      {
       "cell_index": 5
      }
     ]
    },
    "cc7e52d01f1444d4881156e45da189fd": {
     "views": [
      {
       "cell_index": 5
      }
     ]
    },
    "d312a71c1d4b4b6c8cf73e7f526d46a8": {
     "views": [
      {
       "cell_index": 5
      }
     ]
    },
    "d3e96dec979145e9bda486bbfab182cd": {
     "views": [
      {
       "cell_index": 5
      }
     ]
    },
    "dcac66724ab14d7daa548ef6787de50d": {
     "views": [
      {
       "cell_index": 5
      }
     ]
    },
    "dec6ad2cda0e406f9e8bf13e46187ee8": {
     "views": [
      {
       "cell_index": 5
      }
     ]
    },
    "e64dd2b333064643b34f99f6a33270bd": {
     "views": [
      {
       "cell_index": 5
      }
     ]
    },
    "e731582e4bc24ed18e15af9e8e024e78": {
     "views": [
      {
       "cell_index": 5
      }
     ]
    },
    "f24309da280a4f9dacc2eea9289835ad": {
     "views": [
      {
       "cell_index": 5
      }
     ]
    },
    "f6f0ecfc25194202800c24b3d23e6db6": {
     "views": [
      {
       "cell_index": 5
      }
     ]
    },
    "f77f415a65fb48619640947ff7d9f352": {
     "views": [
      {
       "cell_index": 5
      }
     ]
    },
    "fa44dddd85c9415687a11b76c7203464": {
     "views": [
      {
       "cell_index": 5
      }
     ]
    }
   },
   "version": "1.2.0"
  }
 },
 "nbformat": 4,
 "nbformat_minor": 0
}
