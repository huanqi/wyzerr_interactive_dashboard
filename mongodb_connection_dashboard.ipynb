{
 "cells": [
  {
   "cell_type": "markdown",
   "metadata": {
    "extensions": {
     "jupyter_dashboards": {
      "version": 1,
      "views": {
       "grid_default": {
        "col": 0,
        "height": 4,
        "hidden": false,
        "row": 30,
        "width": 4
       },
       "report_default": {
        "hidden": false
       }
      }
     }
    }
   },
   "source": [
    "# Wyzerr Editor Dashboard"
   ]
  },
  {
   "cell_type": "code",
   "execution_count": 1,
   "metadata": {
    "collapsed": true,
    "extensions": {
     "jupyter_dashboards": {
      "version": 1,
      "views": {
       "grid_default": {
        "hidden": true
       },
       "report_default": {
        "hidden": true
       }
      }
     }
    }
   },
   "outputs": [],
   "source": [
    "from pymongo import MongoClient\n",
    "import pymongo\n",
    "import pandas as pd\n",
    "from ipywidgets import interact, interactive, fixed\n",
    "import datetime\n",
    "import warnings\n",
    "import ipywidgets as widgets\n",
    "from IPython.display import display\n",
    "\n",
    "warnings.filterwarnings('ignore')\n",
    "pd.set_option('display.max_rows', 999)"
   ]
  },
  {
   "cell_type": "code",
   "execution_count": 2,
   "metadata": {
    "collapsed": true,
    "extensions": {
     "jupyter_dashboards": {
      "version": 1,
      "views": {
       "grid_default": {
        "hidden": true
       },
       "report_default": {
        "hidden": true
       }
      }
     }
    }
   },
   "outputs": [],
   "source": [
    "from read_db_surveys import *\n",
    "from join_db_surveys import *\n",
    "from read_db_responses import *\n",
    "from join_db_responses import *\n",
    "from get_metric import *\n",
    "from get_results_for_survey import *\n",
    "from read_db_account import *\n",
    "from get_time_serial_signup import *\n",
    "from get_activation import *"
   ]
  },
  {
   "cell_type": "code",
   "execution_count": 3,
   "metadata": {
    "collapsed": true,
    "extensions": {
     "jupyter_dashboards": {
      "version": 1,
      "views": {
       "grid_default": {
        "hidden": true
       },
       "report_default": {
        "hidden": true
       }
      }
     }
    }
   },
   "outputs": [],
   "source": [
    "client = MongoClient('mongodb://localhost:27017/')"
   ]
  },
  {
   "cell_type": "code",
   "execution_count": 4,
   "metadata": {
    "collapsed": true,
    "extensions": {
     "jupyter_dashboards": {
      "version": 1,
      "views": {
       "grid_default": {
        "hidden": true
       },
       "report_default": {
        "hidden": true
       }
      }
     }
    }
   },
   "outputs": [],
   "source": [
    "surveys = read_collection_surveys(client)\n",
    "pages = read_collection_pages(client)\n",
    "questions = read_collection_questions(client)\n",
    "options = read_collection_options(client)\n",
    "\n",
    "surveys_complete = join_db_surveys(options, questions, pages, surveys)\n",
    "\n",
    "surveys_complete = surveys_complete[['accountId', 'createdAt', 'name']].drop_duplicates()\n",
    "surveys_complete = surveys_complete.set_index(['accountId', 'name'])\n",
    "surveys_complete = surveys_complete.sort_values(by = ['createdAt'])"
   ]
  },
  {
   "cell_type": "code",
   "execution_count": 5,
   "metadata": {
    "collapsed": true,
    "extensions": {
     "jupyter_dashboards": {
      "version": 1,
      "views": {
       "grid_default": {
        "hidden": true
       },
       "report_default": {
        "hidden": true
       }
      }
     }
    }
   },
   "outputs": [],
   "source": [
    "responses_per_survey = get_responses_per_survey(client)\n",
    "smartform_usage = get_smartform_usage(client)\n",
    "account_activation = get_activation_time(client)"
   ]
  },
  {
   "cell_type": "code",
   "execution_count": 6,
   "metadata": {
    "collapsed": true,
    "extensions": {
     "jupyter_dashboards": {
      "version": 1,
      "views": {
       "grid_default": {
        "hidden": true
       },
       "report_default": {
        "hidden": true
       }
      }
     }
    }
   },
   "outputs": [],
   "source": [
    "def account_metrics():\n",
    "    result = {}\n",
    "    result['total_num_of_account'] = len(account_activation)\n",
    "    result['num_of_premium_account'] = account_activation['type'].value_counts()['premium']\n",
    "    result['num_of_free_account'] = account_activation['type'].value_counts()['free']\n",
    "    return pd.DataFrame.from_dict(result, orient='index')"
   ]
  },
  {
   "cell_type": "markdown",
   "metadata": {
    "extensions": {
     "jupyter_dashboards": {
      "version": 1,
      "views": {
       "grid_default": {
        "col": 4,
        "height": 4,
        "hidden": false,
        "row": 30,
        "width": 4
       },
       "report_default": {
        "hidden": false
       }
      }
     }
    }
   },
   "source": [
    "## 1 Metrics, Data, and Data export"
   ]
  },
  {
   "cell_type": "code",
   "execution_count": 7,
   "metadata": {
    "extensions": {
     "jupyter_dashboards": {
      "version": 1,
      "views": {
       "grid_default": {
        "col": 0,
        "height": 30,
        "hidden": false,
        "row": 0,
        "width": 12
       },
       "report_default": {
        "hidden": false
       }
      }
     }
    }
   },
   "outputs": [],
   "source": [
    "w = widgets.ToggleButtons(\n",
    "    options=['account', 'survey', 'response', 'smartform'],\n",
    "    description='SaaS',\n",
    "    disabled=False,\n",
    "    button_style='info', # 'success', 'info', 'warning', 'danger' or ''\n",
    "    tooltip='Description',\n",
    "#     icon='check'\n",
    ")\n",
    "\n",
    "w1 = widgets.ToggleButtons(\n",
    "    options=['metrics', 'data', 'data_download'],\n",
    "    description='Options',\n",
    "    disabled=False,\n",
    "    button_style='success', # 'success', 'info', 'warning', 'danger' or ''\n",
    "    tooltip='Description',\n",
    "#     icon='check'\n",
    ")\n",
    "@interact(w = w, w1 = w1, __manual=True)\n",
    "def click_me(w, w1):\n",
    "    if w == 'account':\n",
    "        if w1 == 'metrics':\n",
    "            display(account_metrics())\n",
    "        elif w1 == 'data':\n",
    "            display(account_activation)\n",
    "        elif w1 == 'data_download':\n",
    "            account_activation.to_csv('./data_export/account_data.csv')\n",
    "            print 'the data is created already'\n",
    "            \n",
    "            \n",
    "    elif w == 'survey':\n",
    "        if w1 == 'metrics':\n",
    "            print ('number of active surveys: %d' % len(surveys_complete))\n",
    "        elif w1 == 'data':\n",
    "            display(surveys_complete)\n",
    "        elif w1 == 'data_download':\n",
    "            surveys_complete.to_csv('./data_export/surveys.csv')\n",
    "            print 'the data is created already'\n",
    "        \n",
    "        \n",
    "        \n",
    "    elif w == 'response':\n",
    "        if w1 == 'metrics':\n",
    "            print 'currently no metrics'\n",
    "        elif w1 == 'data':\n",
    "            display(responses_per_survey)\n",
    "        elif w1 == 'data_download':\n",
    "            responses_per_survey.to_csv('./data_export/survey_responses.csv')\n",
    "            print 'the data is created already'\n",
    "        \n",
    "        \n",
    "        \n",
    "    elif w == 'smartform':\n",
    "        if w1 == 'data_download':\n",
    "            smartform_usage.to_csv('./data_export/smartform_usage.csv')\n",
    "            print 'the data is created already'\n",
    "        else:\n",
    "            display(smartform_usage)\n",
    "    \n",
    "    "
   ]
  },
  {
   "cell_type": "code",
   "execution_count": null,
   "metadata": {
    "collapsed": true,
    "extensions": {
     "jupyter_dashboards": {
      "version": 1,
      "views": {
       "grid_default": {
        "hidden": true
       },
       "report_default": {
        "hidden": true
       }
      }
     }
    }
   },
   "outputs": [],
   "source": []
  },
  {
   "cell_type": "markdown",
   "metadata": {
    "extensions": {
     "jupyter_dashboards": {
      "version": 1,
      "views": {
       "grid_default": {
        "col": 8,
        "height": 4,
        "hidden": false,
        "row": 30,
        "width": 4
       },
       "report_default": {
        "hidden": false
       }
      }
     }
    }
   },
   "source": [
    "## 2 Graph"
   ]
  },
  {
   "cell_type": "code",
   "execution_count": 8,
   "metadata": {
    "collapsed": true,
    "extensions": {
     "jupyter_dashboards": {
      "version": 1,
      "views": {
       "grid_default": {
        "hidden": true
       },
       "report_default": {
        "hidden": true
       }
      }
     }
    }
   },
   "outputs": [],
   "source": [
    "accounts = read_account_accounts(client)\n",
    "accounts = accounts[['date', 'email']].drop_duplicates()\n",
    "accounts.reset_index(inplace = True, drop = True)\n",
    "accounts['date'] = UTC_to_EST(accounts['date'])"
   ]
  },
  {
   "cell_type": "code",
   "execution_count": 9,
   "metadata": {
    "collapsed": true,
    "extensions": {
     "jupyter_dashboards": {
      "version": 1,
      "views": {
       "grid_default": {
        "hidden": true
       },
       "report_default": {
        "hidden": true
       }
      }
     }
    }
   },
   "outputs": [],
   "source": [
    "survey_trend = surveys[['createdAt', 'name']].drop_duplicates()\n",
    "survey_trend.reset_index(drop = True, inplace = True)"
   ]
  },
  {
   "cell_type": "code",
   "execution_count": 10,
   "metadata": {
    "collapsed": true,
    "extensions": {
     "jupyter_dashboards": {
      "version": 1,
      "views": {
       "grid_default": {
        "hidden": true
       },
       "report_default": {
        "hidden": true
       }
      }
     }
    }
   },
   "outputs": [],
   "source": [
    "responses = read_collection_responses(client)\n",
    "\n",
    "responses_trend = responses[['_id', 'beginTime']].drop_duplicates()\n",
    "responses_trend.reset_index(drop = True, inplace = True)"
   ]
  },
  {
   "cell_type": "code",
   "execution_count": 11,
   "metadata": {
    "extensions": {
     "jupyter_dashboards": {
      "version": 1,
      "views": {
       "grid_default": {
        "col": 0,
        "height": 28,
        "hidden": false,
        "row": 34,
        "width": 12
       },
       "report_default": {
        "hidden": false
       }
      }
     }
    }
   },
   "outputs": [
    {
     "name": "stdout",
     "output_type": "stream",
     "text": [
      "plot by day\n"
     ]
    }
   ],
   "source": [
    "w2 = widgets.ToggleButtons(\n",
    "    options=['signup', 'survey', 'response'],\n",
    "    description='Trend',\n",
    "    disabled=False,\n",
    "    button_style='info', # 'success', 'info', 'warning', 'danger' or ''\n",
    "    tooltip='Description',\n",
    "#     icon='check'\n",
    ")\n",
    "\n",
    "w3 = widgets.ToggleButtons(\n",
    "    options=['hour', 'day'],\n",
    "    description='Options',\n",
    "    disabled=False,\n",
    "    button_style='success', # 'success', 'info', 'warning', 'danger' or ''\n",
    "    tooltip='Description',\n",
    "#     icon='check'\n",
    ")\n",
    "@interact(w2 = w2, w3 = w3, __manual=True)\n",
    "def make_a_graph(w2, w3):\n",
    "    if w2 == 'signup':\n",
    "        if w3 == 'hour':\n",
    "            editor_signup_over_time(accounts['date'], 'hour')\n",
    "        elif w3 == 'day':\n",
    "            editor_signup_over_time(accounts['date'], 'day')\n",
    "    \n",
    "    elif w2 == 'survey':\n",
    "        if w3 == 'hour':\n",
    "            editor_signup_over_time(survey_trend['createdAt'], 'hour')\n",
    "        elif w3 == 'day':\n",
    "            editor_signup_over_time(survey_trend['createdAt'], 'day')\n",
    "            \n",
    "    elif w2 == 'response':\n",
    "        if w3 == 'hour':\n",
    "            editor_signup_over_time(responses_trend['beginTime'], 'hour')\n",
    "        elif w3 == 'day':\n",
    "            editor_signup_over_time(responses_trend['beginTime'], 'day')"
   ]
  },
  {
   "cell_type": "code",
   "execution_count": null,
   "metadata": {
    "collapsed": true,
    "extensions": {
     "jupyter_dashboards": {
      "version": 1,
      "views": {
       "grid_default": {
        "hidden": true
       },
       "report_default": {
        "hidden": true
       }
      }
     }
    }
   },
   "outputs": [],
   "source": []
  }
 ],
 "metadata": {
  "extensions": {
   "jupyter_dashboards": {
    "activeView": "report_default",
    "version": 1,
    "views": {
     "grid_default": {
      "cellMargin": 10,
      "defaultCellHeight": 20,
      "maxColumns": 12,
      "name": "grid",
      "type": "grid"
     },
     "report_default": {
      "name": "report",
      "type": "report"
     }
    }
   }
  },
  "kernelspec": {
   "display_name": "Python 2",
   "language": "python",
   "name": "python2"
  },
  "language_info": {
   "codemirror_mode": {
    "name": "ipython",
    "version": 2
   },
   "file_extension": ".py",
   "mimetype": "text/x-python",
   "name": "python",
   "nbconvert_exporter": "python",
   "pygments_lexer": "ipython2",
   "version": "2.7.12"
  },
  "widgets": {
   "state": {
    "894e29cafad04876b93635da696857f0": {
     "views": [
      {
       "cell_index": 8
      }
     ]
    },
    "adea5551c8b54030a4d024b1db7b6384": {
     "views": [
      {
       "cell_index": 14
      }
     ]
    }
   },
   "version": "1.2.0"
  }
 },
 "nbformat": 4,
 "nbformat_minor": 1
}
