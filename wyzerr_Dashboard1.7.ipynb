{
 "cells": [
  {
   "cell_type": "markdown",
   "metadata": {
    "extensions": {
     "jupyter_dashboards": {
      "version": 1,
      "views": {
       "grid_default": {},
       "report_default": {
        "hidden": true
       }
      }
     }
    }
   },
   "source": [
    "# Include the libraries"
   ]
  },
  {
   "cell_type": "code",
   "execution_count": 13,
   "metadata": {
    "collapsed": true,
    "extensions": {
     "jupyter_dashboards": {
      "version": 1,
      "views": {
       "grid_default": {},
       "report_default": {
        "hidden": true
       }
      }
     }
    }
   },
   "outputs": [],
   "source": [
    "from __future__ import division\n",
    "import pandas as pd\n",
    "import numpy as np\n",
    "pd.set_option('max_colwidth', 800)\n",
    "import MySQLdb\n",
    "import urllib2\n",
    "import datetime\n",
    "from ipywidgets import interact, interactive, fixed\n",
    "from bokeh.charts import Bar, output_notebook, show\n",
    "import json\n",
    "import re\n",
    "\n",
    "\n",
    "from read_sql_table import *\n",
    "from read_survey_question import *\n",
    "from read_survey_response import *\n",
    "from read_json_response import *\n",
    "from read_json_weights import *\n",
    "from computing_each_question import *\n",
    "from plot_geo_address import *\n",
    "from plot_time_serial import *\n",
    "from computing_survey_metrics import *\n",
    "from computing_open_text import *\n",
    "from clear_format_tags import *"
   ]
  },
  {
   "cell_type": "markdown",
   "metadata": {
    "extensions": {
     "jupyter_dashboards": {
      "version": 1,
      "views": {
       "grid_default": {},
       "report_default": {
        "hidden": true
       }
      }
     }
    }
   },
   "source": [
    "# Set the survey_id and running time"
   ]
  },
  {
   "cell_type": "code",
   "execution_count": 14,
   "metadata": {
    "collapsed": true,
    "extensions": {
     "jupyter_dashboards": {
      "version": 1,
      "views": {
       "grid_default": {},
       "report_default": {
        "hidden": true
       }
      }
     }
    }
   },
   "outputs": [],
   "source": [
    "from ipywidgets import *\n",
    "import ipywidgets\n",
    "import calendar\n",
    "from IPython.display import display"
   ]
  },
  {
   "cell_type": "code",
   "execution_count": 15,
   "metadata": {
    "collapsed": true,
    "extensions": {
     "jupyter_dashboards": {
      "version": 1,
      "views": {
       "grid_default": {},
       "report_default": {
        "hidden": true
       }
      }
     }
    }
   },
   "outputs": [],
   "source": [
    "# repeatable = widgets.RadioButtons(\n",
    "#     options=['repeatable', 'non-repeatable'],\n",
    "#     description='condition',\n",
    "#     disabled=False\n",
    "# )\n",
    "\n",
    "# survey_id = IntSlider(value = 242, min = 1, max = 300, step = 1, description = 'survey id')\n",
    "# b1 = Button(description='Enter the Survey Id')\n",
    "# b1.button_style = 'success'\n",
    "# display(b1)\n",
    "# display(VBox([survey_id]))\n",
    "# display(repeatable)\n",
    "\n",
    "# SurveyId = survey_id.value\n",
    "# if repeatable.value == 'repeatable':\n",
    "#     repeatable = True\n",
    "# else:\n",
    "#     repeatable = False\n",
    "\n",
    "# start_year = IntSlider(value = 2017, min = 2016, max = 2018, step = 1, description = 'Year')\n",
    "# start_month = IntSlider(value = 4, min = 1, max = 12, step = 1, description = 'Month')\n",
    "# start_day = IntSlider(value = 1, min = 1, max = 31, step = 1, description = 'Day')\n",
    "\n",
    "# end_year = IntSlider(value = 2017, min = 2016, max = 2018, step = 1, description = 'Year')\n",
    "# end_month = IntSlider(value = 5, min = 1, max = 12, step = 1, description = 'Month')\n",
    "# end_day = IntSlider(value = 1, min = 1, max = 31, step = 1, description = 'Day')\n",
    "\n",
    "# b1 = Button(description='Enter the start date')\n",
    "# b1.button_style = 'info'\n",
    "# display(b1)\n",
    "# display(HBox([start_year]))\n",
    "# display(HBox([start_month, start_day]))\n",
    "\n",
    "# b1 = Button(description='Enter the end date')\n",
    "# b1.button_style = 'primary'\n",
    "# display(b1)\n",
    "# display(HBox([end_year]))\n",
    "# display(HBox([end_month, end_day]))\n",
    "\n",
    "# start_date = datetime.datetime(start_year.value, start_month.value, start_day.value)\n",
    "# end_date = datetime.datetime(end_year.value, end_month.value, end_day.value)\n",
    "\n",
    "# start_time = pd.tslib.Timestamp(start_date)\n",
    "# end_time = pd.tslib.Timestamp(end_date)\n",
    "# if end_time < start_time:\n",
    "#     raise ValueError('The start time is later than the end time')\n",
    "# elif start_time > pd.tslib.Timestamp(datetime.datetime.utcnow()):\n",
    "#     raise ValueError('The start time is later than the current time')"
   ]
  },
  {
   "cell_type": "code",
   "execution_count": 16,
   "metadata": {
    "collapsed": true,
    "extensions": {
     "jupyter_dashboards": {
      "version": 1,
      "views": {
       "grid_default": {},
       "report_default": {
        "hidden": true
       }
      }
     }
    }
   },
   "outputs": [],
   "source": [
    "SurveyId = 242\n",
    "start_time = pd.tslib.Timestamp('2017-04-01 00:00:00')\n",
    "# end_time = pd.tslib.Timestamp('2017-03-01 00:00:00')\n",
    "end_time = pd.tslib.Timestamp(datetime.datetime.utcnow())\n",
    "repeatable = True"
   ]
  },
  {
   "cell_type": "markdown",
   "metadata": {
    "extensions": {
     "jupyter_dashboards": {
      "version": 1,
      "views": {
       "grid_default": {},
       "report_default": {
        "hidden": true
       }
      }
     }
    }
   },
   "source": [
    "# Get all the survey responses"
   ]
  },
  {
   "cell_type": "code",
   "execution_count": 17,
   "metadata": {
    "extensions": {
     "jupyter_dashboards": {
      "version": 1,
      "views": {
       "grid_default": {},
       "report_default": {
        "hidden": false
       }
      }
     }
    }
   },
   "outputs": [],
   "source": [
    "survey_questions = get_survey_question(SurveyId)\n",
    "\n",
    "survey_response_unique = get_survey_response(SurveyId, start_time, end_time, repeatable)\n",
    "result = get_json_response(survey_questions, survey_response_unique['jsonResponse'].tolist())\n",
    "result = pd.concat([result, survey_response_unique.drop(['jsonResponse'], axis = 1)], axis = 1)\n",
    "\n",
    "# calculate the weights and total_score for a screener\n",
    "weights = get_json_weight(survey_questions, survey_response_unique['jsonResponse'].tolist())\n",
    "result['total_score_for_screener'] = weights.sum(axis = 1)\n",
    "\n",
    "result, survey_questions = clear_html_tag(result, survey_questions)"
   ]
  },
  {
   "cell_type": "code",
   "execution_count": 18,
   "metadata": {
    "extensions": {
     "jupyter_dashboards": {
      "version": 1,
      "views": {
       "grid_default": {},
       "report_default": {
        "hidden": false
       }
      }
     }
    }
   },
   "outputs": [
    {
     "name": "stdout",
     "output_type": "stream",
     "text": [
      "File is created: survey_questions_242.csv\n"
     ]
    }
   ],
   "source": [
    "w = widgets.ToggleButtons(\n",
    "    options=['result', 'questions'],\n",
    "    description='data',\n",
    "    disabled=False,\n",
    "    button_style='info', # 'success', 'info', 'warning', 'danger' or ''\n",
    "    tooltip='Description',\n",
    "#     icon='check'\n",
    ")\n",
    "\n",
    "w1 = widgets.ToggleButtons(\n",
    "    options=['metrics', 'data', 'data_download'],\n",
    "    description='Options',\n",
    "    disabled=False,\n",
    "    button_style='success', # 'success', 'info', 'warning', 'danger' or ''\n",
    "    tooltip='Description',\n",
    "#     icon='check'\n",
    ")\n",
    "@interact(w = w, w1 = w1, __manual=True)\n",
    "def click_me(w, w1):\n",
    "    if w == 'result':\n",
    "        if w1 == 'metrics':\n",
    "            display(get_survey_metrics(SurveyId, start_time, end_time, result))\n",
    "        elif w1 == 'data':\n",
    "            display(result)\n",
    "        elif w1 == 'data_download':\n",
    "            result.to_csv('result_%d_%s.csv' % (SurveyId, end_time))\n",
    "            print 'File is created: result_%d_%s.csv' % (SurveyId, end_time)\n",
    "            \n",
    "            \n",
    "    elif w == 'questions':\n",
    "        if w1 == 'metrics':\n",
    "            print 'There are %d questions in the survey' % len(survey_questions)\n",
    "        elif w1 == 'data':\n",
    "            display(survey_questions)\n",
    "        elif w1 == 'data_download':\n",
    "            survey_questions.to_csv('survey_questions_%d.csv' % SurveyId)\n",
    "            print 'File is created: survey_questions_%d.csv' % SurveyId\n",
    "    \n",
    "    "
   ]
  },
  {
   "cell_type": "markdown",
   "metadata": {
    "extensions": {
     "jupyter_dashboards": {
      "version": 1,
      "views": {
       "grid_default": {},
       "report_default": {
        "hidden": true
       }
      }
     }
    }
   },
   "source": [
    "# Summary for each question"
   ]
  },
  {
   "cell_type": "code",
   "execution_count": 19,
   "metadata": {
    "extensions": {
     "jupyter_dashboards": {
      "version": 1,
      "views": {
       "grid_default": {},
       "report_default": {
        "hidden": false
       }
      }
     }
    }
   },
   "outputs": [],
   "source": [
    "w2 = widgets.Dropdown(\n",
    "    options=[str(item) for item in survey_questions['id'].values ],\n",
    "#     value='2',\n",
    "    description='Q id:',\n",
    "    disabled=False,\n",
    "    button_style='' # 'success', 'info', 'warning', 'danger' or ''\n",
    ")\n",
    "@interact(w2 = w2, __manual=True)\n",
    "def Q_summary(w2):\n",
    "    temp = summary_for_each_question(survey_questions, result, w2)\n",
    "    display(temp)"
   ]
  },
  {
   "cell_type": "code",
   "execution_count": 20,
   "metadata": {
    "collapsed": true,
    "extensions": {
     "jupyter_dashboards": {
      "version": 1,
      "views": {
       "grid_default": {},
       "report_default": {
        "hidden": false
       }
      }
     }
    }
   },
   "outputs": [],
   "source": [
    "w3 = widgets.Dropdown(\n",
    "    options=[item for item in survey_questions['id'].values ],\n",
    "#     value='2',\n",
    "    description='Q id:',\n",
    "    disabled=False,\n",
    "    button_style='' # 'success', 'info', 'warning', 'danger' or ''\n",
    ")\n",
    "@interact(w3 = w3, __manual=True)\n",
    "def Q_plot(w3):\n",
    "    temp = summary_plot_for_each_question(survey_questions, result, w3)\n",
    "    display(temp)\n"
   ]
  },
  {
   "cell_type": "code",
   "execution_count": 21,
   "metadata": {
    "collapsed": true,
    "extensions": {
     "jupyter_dashboards": {
      "version": 1,
      "views": {
       "grid_default": {},
       "report_default": {
        "hidden": true
       }
      }
     }
    },
    "scrolled": true
   },
   "outputs": [],
   "source": [
    "# interact(summary_for_each_question, survey_questions = fixed(survey_questions), result = fixed(result), \\\n",
    "#         question_id = [item for item in survey_questions['id'].values ])"
   ]
  },
  {
   "cell_type": "code",
   "execution_count": 22,
   "metadata": {
    "collapsed": true,
    "extensions": {
     "jupyter_dashboards": {
      "version": 1,
      "views": {
       "grid_default": {},
       "report_default": {
        "hidden": true
       }
      }
     }
    },
    "scrolled": false
   },
   "outputs": [],
   "source": [
    "# interact(summary_plot_for_each_question, survey_questions = fixed(survey_questions), result = fixed(result), \\\n",
    "#         question_id = [item for item in survey_questions['id'].values ], __manual = True)"
   ]
  },
  {
   "cell_type": "markdown",
   "metadata": {
    "extensions": {
     "jupyter_dashboards": {
      "version": 1,
      "views": {
       "grid_default": {},
       "report_default": {
        "hidden": true
       }
      }
     }
    }
   },
   "source": [
    "# Survey geo metrics"
   ]
  },
  {
   "cell_type": "code",
   "execution_count": 23,
   "metadata": {
    "extensions": {
     "jupyter_dashboards": {
      "version": 1,
      "views": {
       "grid_default": {},
       "report_default": {
        "hidden": false
       }
      }
     }
    }
   },
   "outputs": [
    {
     "name": "stdout",
     "output_type": "stream",
     "text": [
      "Silent mode\n"
     ]
    }
   ],
   "source": [
    "w4 = widgets.ToggleButton(\n",
    "    value=False,\n",
    "    description='make Geo plot',\n",
    "    disabled=False,\n",
    "    button_style='', # 'success', 'info', 'warning', 'danger' or ''\n",
    "    tooltip='Description',\n",
    "    icon='check'\n",
    ")\n",
    "@interact(w4 = w4)\n",
    "def geo_plot(w4):\n",
    "    if w4 == True:\n",
    "        display(plot_geo(result['latitude'], result['longitude']))\n",
    "    else:\n",
    "        print 'Silent mode'"
   ]
  },
  {
   "cell_type": "markdown",
   "metadata": {
    "extensions": {
     "jupyter_dashboards": {
      "version": 1,
      "views": {
       "grid_default": {},
       "report_default": {
        "hidden": true
       }
      }
     }
    }
   },
   "source": [
    "# Survey time serial"
   ]
  },
  {
   "cell_type": "code",
   "execution_count": 24,
   "metadata": {
    "extensions": {
     "jupyter_dashboards": {
      "version": 1,
      "views": {
       "grid_default": {},
       "report_default": {
        "hidden": true
       }
      }
     }
    }
   },
   "outputs": [
    {
     "data": {
      "text/html": [
       "\n",
       "    <div class=\"bk-banner\">\n",
       "        <a href=\"http://bokeh.pydata.org\" target=\"_blank\" class=\"bk-logo bk-logo-small bk-logo-notebook\"></a>\n",
       "        <span id=\"e9cc1b8d-27f5-49f0-9881-6c884984e973\">Loading BokehJS ...</span>\n",
       "    </div>"
      ]
     },
     "metadata": {},
     "output_type": "display_data"
    },
    {
     "data": {
      "application/javascript": [
       "\n",
       "(function(global) {\n",
       "  function now() {\n",
       "    return new Date();\n",
       "  }\n",
       "\n",
       "  if (typeof (window._bokeh_onload_callbacks) === \"undefined\") {\n",
       "    window._bokeh_onload_callbacks = [];\n",
       "  }\n",
       "\n",
       "  function run_callbacks() {\n",
       "    window._bokeh_onload_callbacks.forEach(function(callback) { callback() });\n",
       "    delete window._bokeh_onload_callbacks\n",
       "    console.info(\"Bokeh: all callbacks have finished\");\n",
       "  }\n",
       "\n",
       "  function load_libs(js_urls, callback) {\n",
       "    window._bokeh_onload_callbacks.push(callback);\n",
       "    if (window._bokeh_is_loading > 0) {\n",
       "      console.log(\"Bokeh: BokehJS is being loaded, scheduling callback at\", now());\n",
       "      return null;\n",
       "    }\n",
       "    if (js_urls == null || js_urls.length === 0) {\n",
       "      run_callbacks();\n",
       "      return null;\n",
       "    }\n",
       "    console.log(\"Bokeh: BokehJS not loaded, scheduling load and callback at\", now());\n",
       "    window._bokeh_is_loading = js_urls.length;\n",
       "    for (var i = 0; i < js_urls.length; i++) {\n",
       "      var url = js_urls[i];\n",
       "      var s = document.createElement('script');\n",
       "      s.src = url;\n",
       "      s.async = false;\n",
       "      s.onreadystatechange = s.onload = function() {\n",
       "        window._bokeh_is_loading--;\n",
       "        if (window._bokeh_is_loading === 0) {\n",
       "          console.log(\"Bokeh: all BokehJS libraries loaded\");\n",
       "          run_callbacks()\n",
       "        }\n",
       "      };\n",
       "      s.onerror = function() {\n",
       "        console.warn(\"failed to load library \" + url);\n",
       "      };\n",
       "      console.log(\"Bokeh: injecting script tag for BokehJS library: \", url);\n",
       "      document.getElementsByTagName(\"head\")[0].appendChild(s);\n",
       "    }\n",
       "  };\n",
       "\n",
       "  var js_urls = ['https://cdn.pydata.org/bokeh/release/bokeh-0.11.1.min.js', 'https://cdn.pydata.org/bokeh/release/bokeh-widgets-0.11.1.min.js', 'https://cdn.pydata.org/bokeh/release/bokeh-compiler-0.11.1.min.js'];\n",
       "\n",
       "  var inline_js = [\n",
       "    function(Bokeh) {\n",
       "      Bokeh.set_log_level(\"info\");\n",
       "    },\n",
       "    \n",
       "    function(Bokeh) {\n",
       "      Bokeh.$(\"#e9cc1b8d-27f5-49f0-9881-6c884984e973\").text(\"BokehJS successfully loaded\");\n",
       "    },\n",
       "    function(Bokeh) {\n",
       "      console.log(\"Bokeh: injecting CSS: https://cdn.pydata.org/bokeh/release/bokeh-0.11.1.min.css\");\n",
       "      Bokeh.embed.inject_css(\"https://cdn.pydata.org/bokeh/release/bokeh-0.11.1.min.css\");\n",
       "      console.log(\"Bokeh: injecting CSS: https://cdn.pydata.org/bokeh/release/bokeh-widgets-0.11.1.min.css\");\n",
       "      Bokeh.embed.inject_css(\"https://cdn.pydata.org/bokeh/release/bokeh-widgets-0.11.1.min.css\");\n",
       "    }\n",
       "  ];\n",
       "\n",
       "  function run_inline_js() {\n",
       "    for (var i = 0; i < inline_js.length; i++) {\n",
       "      inline_js[i](window.Bokeh);\n",
       "    }\n",
       "  }\n",
       "\n",
       "  if (window._bokeh_is_loading === 0) {\n",
       "    console.log(\"Bokeh: BokehJS loaded, going straight to plotting\");\n",
       "    run_inline_js();\n",
       "  } else {\n",
       "    load_libs(js_urls, function() {\n",
       "      console.log(\"Bokeh: BokehJS plotting callback run at\", now());\n",
       "      run_inline_js();\n",
       "    });\n",
       "  }\n",
       "}(this));"
      ]
     },
     "metadata": {},
     "output_type": "display_data"
    },
    {
     "data": {
      "text/html": [
       "<div>\n",
       "<table border=\"1\" class=\"dataframe\">\n",
       "  <thead>\n",
       "    <tr style=\"text-align: right;\">\n",
       "      <th></th>\n",
       "      <th>time_stamp</th>\n",
       "      <th>daily_count</th>\n",
       "    </tr>\n",
       "  </thead>\n",
       "  <tbody>\n",
       "    <tr>\n",
       "      <th>0</th>\n",
       "      <td>2017-04-05 14:00:00</td>\n",
       "      <td>63</td>\n",
       "    </tr>\n",
       "    <tr>\n",
       "      <th>1</th>\n",
       "      <td>2017-04-06 16:00:00</td>\n",
       "      <td>58</td>\n",
       "    </tr>\n",
       "    <tr>\n",
       "      <th>2</th>\n",
       "      <td>2017-04-05 17:00:00</td>\n",
       "      <td>57</td>\n",
       "    </tr>\n",
       "    <tr>\n",
       "      <th>3</th>\n",
       "      <td>2017-04-05 16:00:00</td>\n",
       "      <td>56</td>\n",
       "    </tr>\n",
       "    <tr>\n",
       "      <th>4</th>\n",
       "      <td>2017-04-06 15:00:00</td>\n",
       "      <td>54</td>\n",
       "    </tr>\n",
       "    <tr>\n",
       "      <th>5</th>\n",
       "      <td>2017-04-05 15:00:00</td>\n",
       "      <td>51</td>\n",
       "    </tr>\n",
       "    <tr>\n",
       "      <th>6</th>\n",
       "      <td>2017-04-10 15:00:00</td>\n",
       "      <td>50</td>\n",
       "    </tr>\n",
       "    <tr>\n",
       "      <th>7</th>\n",
       "      <td>2017-04-05 13:00:00</td>\n",
       "      <td>50</td>\n",
       "    </tr>\n",
       "    <tr>\n",
       "      <th>8</th>\n",
       "      <td>2017-04-05 19:00:00</td>\n",
       "      <td>49</td>\n",
       "    </tr>\n",
       "    <tr>\n",
       "      <th>9</th>\n",
       "      <td>2017-04-05 20:00:00</td>\n",
       "      <td>47</td>\n",
       "    </tr>\n",
       "    <tr>\n",
       "      <th>10</th>\n",
       "      <td>2017-04-09 15:00:00</td>\n",
       "      <td>46</td>\n",
       "    </tr>\n",
       "    <tr>\n",
       "      <th>11</th>\n",
       "      <td>2017-04-06 14:00:00</td>\n",
       "      <td>46</td>\n",
       "    </tr>\n",
       "    <tr>\n",
       "      <th>12</th>\n",
       "      <td>2017-04-05 18:00:00</td>\n",
       "      <td>44</td>\n",
       "    </tr>\n",
       "    <tr>\n",
       "      <th>13</th>\n",
       "      <td>2017-04-09 19:00:00</td>\n",
       "      <td>42</td>\n",
       "    </tr>\n",
       "    <tr>\n",
       "      <th>14</th>\n",
       "      <td>2017-04-06 19:00:00</td>\n",
       "      <td>42</td>\n",
       "    </tr>\n",
       "    <tr>\n",
       "      <th>15</th>\n",
       "      <td>2017-04-09 21:00:00</td>\n",
       "      <td>42</td>\n",
       "    </tr>\n",
       "    <tr>\n",
       "      <th>16</th>\n",
       "      <td>2017-04-06 20:00:00</td>\n",
       "      <td>41</td>\n",
       "    </tr>\n",
       "    <tr>\n",
       "      <th>17</th>\n",
       "      <td>2017-04-09 18:00:00</td>\n",
       "      <td>41</td>\n",
       "    </tr>\n",
       "    <tr>\n",
       "      <th>18</th>\n",
       "      <td>2017-04-10 11:00:00</td>\n",
       "      <td>40</td>\n",
       "    </tr>\n",
       "    <tr>\n",
       "      <th>19</th>\n",
       "      <td>2017-04-09 13:00:00</td>\n",
       "      <td>40</td>\n",
       "    </tr>\n",
       "    <tr>\n",
       "      <th>20</th>\n",
       "      <td>2017-04-10 17:00:00</td>\n",
       "      <td>40</td>\n",
       "    </tr>\n",
       "    <tr>\n",
       "      <th>21</th>\n",
       "      <td>2017-04-09 20:00:00</td>\n",
       "      <td>39</td>\n",
       "    </tr>\n",
       "    <tr>\n",
       "      <th>22</th>\n",
       "      <td>2017-04-06 17:00:00</td>\n",
       "      <td>38</td>\n",
       "    </tr>\n",
       "    <tr>\n",
       "      <th>23</th>\n",
       "      <td>2017-04-09 17:00:00</td>\n",
       "      <td>38</td>\n",
       "    </tr>\n",
       "    <tr>\n",
       "      <th>24</th>\n",
       "      <td>2017-04-09 12:00:00</td>\n",
       "      <td>37</td>\n",
       "    </tr>\n",
       "    <tr>\n",
       "      <th>25</th>\n",
       "      <td>2017-04-07 16:00:00</td>\n",
       "      <td>37</td>\n",
       "    </tr>\n",
       "    <tr>\n",
       "      <th>26</th>\n",
       "      <td>2017-04-05 22:00:00</td>\n",
       "      <td>37</td>\n",
       "    </tr>\n",
       "    <tr>\n",
       "      <th>27</th>\n",
       "      <td>2017-04-07 19:00:00</td>\n",
       "      <td>36</td>\n",
       "    </tr>\n",
       "    <tr>\n",
       "      <th>28</th>\n",
       "      <td>2017-04-06 13:00:00</td>\n",
       "      <td>36</td>\n",
       "    </tr>\n",
       "    <tr>\n",
       "      <th>29</th>\n",
       "      <td>2017-04-05 21:00:00</td>\n",
       "      <td>36</td>\n",
       "    </tr>\n",
       "    <tr>\n",
       "      <th>...</th>\n",
       "      <td>...</td>\n",
       "      <td>...</td>\n",
       "    </tr>\n",
       "    <tr>\n",
       "      <th>129</th>\n",
       "      <td>2017-04-12 08:00:00</td>\n",
       "      <td>5</td>\n",
       "    </tr>\n",
       "    <tr>\n",
       "      <th>130</th>\n",
       "      <td>2017-04-08 08:00:00</td>\n",
       "      <td>4</td>\n",
       "    </tr>\n",
       "    <tr>\n",
       "      <th>131</th>\n",
       "      <td>2017-04-10 03:00:00</td>\n",
       "      <td>4</td>\n",
       "    </tr>\n",
       "    <tr>\n",
       "      <th>132</th>\n",
       "      <td>2017-04-10 02:00:00</td>\n",
       "      <td>4</td>\n",
       "    </tr>\n",
       "    <tr>\n",
       "      <th>133</th>\n",
       "      <td>2017-04-06 02:00:00</td>\n",
       "      <td>3</td>\n",
       "    </tr>\n",
       "    <tr>\n",
       "      <th>134</th>\n",
       "      <td>2017-04-10 06:00:00</td>\n",
       "      <td>3</td>\n",
       "    </tr>\n",
       "    <tr>\n",
       "      <th>135</th>\n",
       "      <td>2017-04-09 08:00:00</td>\n",
       "      <td>3</td>\n",
       "    </tr>\n",
       "    <tr>\n",
       "      <th>136</th>\n",
       "      <td>2017-04-07 07:00:00</td>\n",
       "      <td>3</td>\n",
       "    </tr>\n",
       "    <tr>\n",
       "      <th>137</th>\n",
       "      <td>2017-04-06 04:00:00</td>\n",
       "      <td>3</td>\n",
       "    </tr>\n",
       "    <tr>\n",
       "      <th>138</th>\n",
       "      <td>2017-04-12 02:00:00</td>\n",
       "      <td>2</td>\n",
       "    </tr>\n",
       "    <tr>\n",
       "      <th>139</th>\n",
       "      <td>2017-04-07 02:00:00</td>\n",
       "      <td>2</td>\n",
       "    </tr>\n",
       "    <tr>\n",
       "      <th>140</th>\n",
       "      <td>2017-04-08 02:00:00</td>\n",
       "      <td>2</td>\n",
       "    </tr>\n",
       "    <tr>\n",
       "      <th>141</th>\n",
       "      <td>2017-04-07 05:00:00</td>\n",
       "      <td>2</td>\n",
       "    </tr>\n",
       "    <tr>\n",
       "      <th>142</th>\n",
       "      <td>2017-04-07 01:00:00</td>\n",
       "      <td>2</td>\n",
       "    </tr>\n",
       "    <tr>\n",
       "      <th>143</th>\n",
       "      <td>2017-04-06 07:00:00</td>\n",
       "      <td>2</td>\n",
       "    </tr>\n",
       "    <tr>\n",
       "      <th>144</th>\n",
       "      <td>2017-04-11 06:00:00</td>\n",
       "      <td>2</td>\n",
       "    </tr>\n",
       "    <tr>\n",
       "      <th>145</th>\n",
       "      <td>2017-04-08 06:00:00</td>\n",
       "      <td>2</td>\n",
       "    </tr>\n",
       "    <tr>\n",
       "      <th>146</th>\n",
       "      <td>2017-04-07 06:00:00</td>\n",
       "      <td>2</td>\n",
       "    </tr>\n",
       "    <tr>\n",
       "      <th>147</th>\n",
       "      <td>2017-04-06 06:00:00</td>\n",
       "      <td>2</td>\n",
       "    </tr>\n",
       "    <tr>\n",
       "      <th>148</th>\n",
       "      <td>2017-04-08 07:00:00</td>\n",
       "      <td>1</td>\n",
       "    </tr>\n",
       "    <tr>\n",
       "      <th>149</th>\n",
       "      <td>2017-04-08 03:00:00</td>\n",
       "      <td>1</td>\n",
       "    </tr>\n",
       "    <tr>\n",
       "      <th>150</th>\n",
       "      <td>2017-04-10 07:00:00</td>\n",
       "      <td>1</td>\n",
       "    </tr>\n",
       "    <tr>\n",
       "      <th>151</th>\n",
       "      <td>2017-04-12 07:00:00</td>\n",
       "      <td>1</td>\n",
       "    </tr>\n",
       "    <tr>\n",
       "      <th>152</th>\n",
       "      <td>2017-04-09 05:00:00</td>\n",
       "      <td>1</td>\n",
       "    </tr>\n",
       "    <tr>\n",
       "      <th>153</th>\n",
       "      <td>2017-04-11 02:00:00</td>\n",
       "      <td>1</td>\n",
       "    </tr>\n",
       "    <tr>\n",
       "      <th>154</th>\n",
       "      <td>2017-04-04 23:00:00</td>\n",
       "      <td>1</td>\n",
       "    </tr>\n",
       "    <tr>\n",
       "      <th>155</th>\n",
       "      <td>2017-04-08 05:00:00</td>\n",
       "      <td>1</td>\n",
       "    </tr>\n",
       "    <tr>\n",
       "      <th>156</th>\n",
       "      <td>2017-04-09 07:00:00</td>\n",
       "      <td>1</td>\n",
       "    </tr>\n",
       "    <tr>\n",
       "      <th>157</th>\n",
       "      <td>2017-04-11 03:00:00</td>\n",
       "      <td>1</td>\n",
       "    </tr>\n",
       "    <tr>\n",
       "      <th>158</th>\n",
       "      <td>2017-04-10 04:00:00</td>\n",
       "      <td>1</td>\n",
       "    </tr>\n",
       "  </tbody>\n",
       "</table>\n",
       "<p>159 rows × 2 columns</p>\n",
       "</div>"
      ],
      "text/plain": [
       "             time_stamp  daily_count\n",
       "0   2017-04-05 14:00:00           63\n",
       "1   2017-04-06 16:00:00           58\n",
       "2   2017-04-05 17:00:00           57\n",
       "3   2017-04-05 16:00:00           56\n",
       "4   2017-04-06 15:00:00           54\n",
       "5   2017-04-05 15:00:00           51\n",
       "6   2017-04-10 15:00:00           50\n",
       "7   2017-04-05 13:00:00           50\n",
       "8   2017-04-05 19:00:00           49\n",
       "9   2017-04-05 20:00:00           47\n",
       "10  2017-04-09 15:00:00           46\n",
       "11  2017-04-06 14:00:00           46\n",
       "12  2017-04-05 18:00:00           44\n",
       "13  2017-04-09 19:00:00           42\n",
       "14  2017-04-06 19:00:00           42\n",
       "15  2017-04-09 21:00:00           42\n",
       "16  2017-04-06 20:00:00           41\n",
       "17  2017-04-09 18:00:00           41\n",
       "18  2017-04-10 11:00:00           40\n",
       "19  2017-04-09 13:00:00           40\n",
       "20  2017-04-10 17:00:00           40\n",
       "21  2017-04-09 20:00:00           39\n",
       "22  2017-04-06 17:00:00           38\n",
       "23  2017-04-09 17:00:00           38\n",
       "24  2017-04-09 12:00:00           37\n",
       "25  2017-04-07 16:00:00           37\n",
       "26  2017-04-05 22:00:00           37\n",
       "27  2017-04-07 19:00:00           36\n",
       "28  2017-04-06 13:00:00           36\n",
       "29  2017-04-05 21:00:00           36\n",
       "..                  ...          ...\n",
       "129 2017-04-12 08:00:00            5\n",
       "130 2017-04-08 08:00:00            4\n",
       "131 2017-04-10 03:00:00            4\n",
       "132 2017-04-10 02:00:00            4\n",
       "133 2017-04-06 02:00:00            3\n",
       "134 2017-04-10 06:00:00            3\n",
       "135 2017-04-09 08:00:00            3\n",
       "136 2017-04-07 07:00:00            3\n",
       "137 2017-04-06 04:00:00            3\n",
       "138 2017-04-12 02:00:00            2\n",
       "139 2017-04-07 02:00:00            2\n",
       "140 2017-04-08 02:00:00            2\n",
       "141 2017-04-07 05:00:00            2\n",
       "142 2017-04-07 01:00:00            2\n",
       "143 2017-04-06 07:00:00            2\n",
       "144 2017-04-11 06:00:00            2\n",
       "145 2017-04-08 06:00:00            2\n",
       "146 2017-04-07 06:00:00            2\n",
       "147 2017-04-06 06:00:00            2\n",
       "148 2017-04-08 07:00:00            1\n",
       "149 2017-04-08 03:00:00            1\n",
       "150 2017-04-10 07:00:00            1\n",
       "151 2017-04-12 07:00:00            1\n",
       "152 2017-04-09 05:00:00            1\n",
       "153 2017-04-11 02:00:00            1\n",
       "154 2017-04-04 23:00:00            1\n",
       "155 2017-04-08 05:00:00            1\n",
       "156 2017-04-09 07:00:00            1\n",
       "157 2017-04-11 03:00:00            1\n",
       "158 2017-04-10 04:00:00            1\n",
       "\n",
       "[159 rows x 2 columns]"
      ]
     },
     "metadata": {},
     "output_type": "display_data"
    }
   ],
   "source": [
    "result = UTC_to_EST(result)\n",
    "# survey_response_analyze_filter_hour(result, 'day')\n",
    "traffic = interact(survey_response_analyze_filter, result = fixed(result), time_difference = ['hour', 'day'])\n"
   ]
  },
  {
   "cell_type": "code",
   "execution_count": null,
   "metadata": {
    "collapsed": true,
    "extensions": {
     "jupyter_dashboards": {
      "version": 1,
      "views": {
       "grid_default": {},
       "report_default": {
        "hidden": true
       }
      }
     }
    }
   },
   "outputs": [],
   "source": []
  }
 ],
 "metadata": {
  "extensions": {
   "jupyter_dashboards": {
    "activeView": "report_default",
    "version": 1,
    "views": {
     "grid_default": {
      "name": "grid",
      "type": "grid"
     },
     "report_default": {
      "name": "report",
      "type": "report"
     }
    }
   }
  },
  "kernelspec": {
   "display_name": "Python 2",
   "language": "python",
   "name": "python2"
  },
  "language_info": {
   "codemirror_mode": {
    "name": "ipython",
    "version": 2
   },
   "file_extension": ".py",
   "mimetype": "text/x-python",
   "name": "python",
   "nbconvert_exporter": "python",
   "pygments_lexer": "ipython2",
   "version": "2.7.12"
  },
  "widgets": {
   "state": {
    "13988229dbc44551975e1ffd3c2038de": {
     "views": [
      {
       "cell_index": 4
      }
     ]
    },
    "14a681efd0974ebd936937e0b42826e5": {
     "views": [
      {
       "cell_index": 17
      }
     ]
    },
    "171e957697bf454691896cf0cd8463d1": {
     "views": [
      {
       "cell_index": 8
      }
     ]
    },
    "2452d395ae3844dba51100b16a9b19b3": {
     "views": [
      {
       "cell_index": 4
      }
     ]
    },
    "2d9629e764584201a3098073ca0a9018": {
     "views": [
      {
       "cell_index": 4
      }
     ]
    },
    "6c1a55d4f43642dc86d4eff32763bf93": {
     "views": [
      {
       "cell_index": 4
      }
     ]
    },
    "77683e59a20248b8bb46105a8b0f9c1e": {
     "views": [
      {
       "cell_index": 5
      }
     ]
    },
    "8fe7108ac74a4993b2cd23e8d8a33530": {
     "views": [
      {
       "cell_index": 5
      }
     ]
    },
    "93ac084d769949369abb4e20b713f71e": {
     "views": [
      {
       "cell_index": 4
      }
     ]
    },
    "aebe34ee1f894f438b584b4a6f53106f": {
     "views": [
      {
       "cell_index": 5
      }
     ]
    },
    "cda484064e4b464ca02c537c4b12f1bb": {
     "views": [
      {
       "cell_index": 11
      }
     ]
    },
    "d905c92d92344cab824a62d8bd932a06": {
     "views": [
      {
       "cell_index": 15
      }
     ]
    },
    "e379b32629e04a9898c199cf5b25d478": {
     "views": [
      {
       "cell_index": 10
      }
     ]
    },
    "ffd51eba340046f88f53e8c40f3c6837": {
     "views": [
      {
       "cell_index": 4
      }
     ]
    }
   },
   "version": "1.2.0"
  }
 },
 "nbformat": 4,
 "nbformat_minor": 1
}
